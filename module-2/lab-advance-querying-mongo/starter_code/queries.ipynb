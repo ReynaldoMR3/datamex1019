{
 "cells": [
  {
   "cell_type": "markdown",
   "metadata": {},
   "source": [
    "![Ironhack Logo](https://i.imgur.com/1QgrNNw.png)"
   ]
  },
  {
   "cell_type": "code",
   "execution_count": 9,
   "metadata": {},
   "outputs": [],
   "source": [
    "from pymongo import MongoClient\n",
    "client=MongoClient()\n",
    "db=client.db_companies"
   ]
  },
  {
   "cell_type": "markdown",
   "metadata": {},
   "source": [
    "# Answers\n",
    "### 1. All the companies that it's name match 'Babelgum'. Retrieve only their `name` field."
   ]
  },
  {
   "cell_type": "code",
   "execution_count": 29,
   "metadata": {},
   "outputs": [
    {
     "data": {
      "text/plain": [
       "[{'name': 'Babelgum'}]"
      ]
     },
     "execution_count": 29,
     "metadata": {},
     "output_type": "execute_result"
    }
   ],
   "source": [
    "list(db.companies.find({'name':'Babelgum'}, {'_id':0,'name':1}))\n"
   ]
  },
  {
   "cell_type": "markdown",
   "metadata": {},
   "source": [
    "### 2. All the companies that have more than 5000 employees. Limit the search to 20 companies and sort them by **number of employees**."
   ]
  },
  {
   "cell_type": "code",
   "execution_count": 31,
   "metadata": {},
   "outputs": [
    {
     "data": {
      "text/plain": [
       "[{'name': 'Nintendo'},\n",
       " {'name': 'Hexaware Technologies'},\n",
       " {'name': 'Facebook'},\n",
       " {'name': 'OpenText'},\n",
       " {'name': 'LSI'},\n",
       " {'name': 'CPM Braxis'},\n",
       " {'name': 'Microchip Technologies'},\n",
       " {'name': 'Mediaset'},\n",
       " {'name': 'Mindray Medical International'},\n",
       " {'name': 'Baidu'},\n",
       " {'name': 'Dentsu'},\n",
       " {'name': 'Tata Communications'},\n",
       " {'name': 'Atmel'},\n",
       " {'name': 'Acxiom'},\n",
       " {'name': 'Acxiom'},\n",
       " {'name': 'SRA International'},\n",
       " {'name': \"Moody's\"},\n",
       " {'name': 'ManTech'},\n",
       " {'name': 'Adobe Systems'},\n",
       " {'name': 'Broadcom'}]"
      ]
     },
     "execution_count": 31,
     "metadata": {},
     "output_type": "execute_result"
    }
   ],
   "source": [
    "list(db.companies.find({'number_of_employees':{'$gt':5000}}, {'name':1, '_id':0}).sort('number_of_employees', 1).limit(20))\n",
    "     "
   ]
  },
  {
   "cell_type": "markdown",
   "metadata": {},
   "source": [
    "### 3. All the companies founded between 2000 and 2005, both years included. Retrieve only the `name` and `founded_year` fileds."
   ]
  },
  {
   "cell_type": "code",
   "execution_count": 71,
   "metadata": {},
   "outputs": [
    {
     "data": {
      "text/plain": [
       "[{'_id': ObjectId('52cdef7c4bab8bd675297d8d'),\n",
       "  'name': 'Digg',\n",
       "  'founded_year': 2004},\n",
       " {'_id': ObjectId('52cdef7c4bab8bd675297d8e'),\n",
       "  'name': 'Facebook',\n",
       "  'founded_year': 2004},\n",
       " {'_id': ObjectId('52cdef7c4bab8bd675297d95'),\n",
       "  'name': 'StumbleUpon',\n",
       "  'founded_year': 2002},\n",
       " {'_id': ObjectId('52cdef7c4bab8bd675297d96'),\n",
       "  'name': 'Gizmoz',\n",
       "  'founded_year': 2003},\n",
       " {'_id': ObjectId('52cdef7c4bab8bd675297da1'),\n",
       "  'name': 'Plaxo',\n",
       "  'founded_year': 2002},\n",
       " {'_id': ObjectId('52cdef7c4bab8bd675297da5'),\n",
       "  'name': 'Technorati',\n",
       "  'founded_year': 2002},\n",
       " {'_id': ObjectId('52cdef7c4bab8bd675297da7'),\n",
       "  'name': 'AddThis',\n",
       "  'founded_year': 2004},\n",
       " {'_id': ObjectId('52cdef7c4bab8bd675297dac'),\n",
       "  'name': 'Veoh',\n",
       "  'founded_year': 2004},\n",
       " {'_id': ObjectId('52cdef7c4bab8bd675297db2'),\n",
       "  'name': 'Meetup',\n",
       "  'founded_year': 2002},\n",
       " {'_id': ObjectId('52cdef7c4bab8bd675297db8'),\n",
       "  'name': 'SmugMug',\n",
       "  'founded_year': 2002},\n",
       " {'_id': ObjectId('52cdef7c4bab8bd675297dbc'),\n",
       "  'name': 'Skype',\n",
       "  'founded_year': 2003},\n",
       " {'_id': ObjectId('52cdef7c4bab8bd675297dc3'),\n",
       "  'name': 'Pando Networks',\n",
       "  'founded_year': 2004},\n",
       " {'_id': ObjectId('52cdef7c4bab8bd675297dc6'),\n",
       "  'name': 'Ikan',\n",
       "  'founded_year': 2003},\n",
       " {'_id': ObjectId('52cdef7c4bab8bd675297dc7'),\n",
       "  'name': 'delicious',\n",
       "  'founded_year': 2003},\n",
       " {'_id': ObjectId('52cdef7c4bab8bd675297dc8'),\n",
       "  'name': 'Topix',\n",
       "  'founded_year': 2002},\n",
       " {'_id': ObjectId('52cdef7c4bab8bd675297dc9'),\n",
       "  'name': 'Jobster',\n",
       "  'founded_year': 2004},\n",
       " {'_id': ObjectId('52cdef7c4bab8bd675297dcc'),\n",
       "  'name': 'AllPeers',\n",
       "  'founded_year': 2004},\n",
       " {'_id': ObjectId('52cdef7c4bab8bd675297dd5'),\n",
       "  'name': 'AllofMP3',\n",
       "  'founded_year': 2000},\n",
       " {'_id': ObjectId('52cdef7c4bab8bd675297dd9'),\n",
       "  'name': 'Steorn',\n",
       "  'founded_year': 2000},\n",
       " {'_id': ObjectId('52cdef7c4bab8bd675297dda'),\n",
       "  'name': 'iContact',\n",
       "  'founded_year': 2003}]"
      ]
     },
     "execution_count": 71,
     "metadata": {},
     "output_type": "execute_result"
    }
   ],
   "source": [
    "list(db.companies.find({'founded_year':{'$gte':2000, '$lt':2005}}, {'name', 'founded_year'}))[0:20]"
   ]
  },
  {
   "cell_type": "markdown",
   "metadata": {},
   "source": [
    "### 4. All the companies that had a Valuation Amount of more than 100.000.000 and have been founded before 2010. Retrieve only the `name` and `ipo` fields."
   ]
  },
  {
   "cell_type": "code",
   "execution_count": 70,
   "metadata": {},
   "outputs": [
    {
     "data": {
      "text/plain": [
       "[{'_id': ObjectId('52cdef7c4bab8bd675297de7'), 'name': 'Fleck', 'ipo': None},\n",
       " {'_id': ObjectId('52cdef7c4bab8bd675297e58'), 'name': 'eBuddy', 'ipo': None},\n",
       " {'_id': ObjectId('52cdef7c4bab8bd675297ec4'),\n",
       "  'name': 'Curverider',\n",
       "  'ipo': None},\n",
       " {'_id': ObjectId('52cdef7c4bab8bd675297f31'),\n",
       "  'name': 'Seedcamp',\n",
       "  'ipo': None},\n",
       " {'_id': ObjectId('52cdef7c4bab8bd675297ff6'), 'name': 'Goojet', 'ipo': None},\n",
       " {'_id': ObjectId('52cdef7c4bab8bd675298009'),\n",
       "  'name': 'Mobovivo',\n",
       "  'ipo': None},\n",
       " {'_id': ObjectId('52cdef7c4bab8bd67529802b'), 'name': 'Fon', 'ipo': None},\n",
       " {'_id': ObjectId('52cdef7c4bab8bd6752980a0'), 'name': 'Plazes', 'ipo': None},\n",
       " {'_id': ObjectId('52cdef7c4bab8bd6752980a8'), 'name': 'Evi', 'ipo': None},\n",
       " {'_id': ObjectId('52cdef7c4bab8bd6752980f1'), 'name': 'Blyk', 'ipo': None},\n",
       " {'_id': ObjectId('52cdef7c4bab8bd675298135'), 'name': 'eyeOS', 'ipo': None},\n",
       " {'_id': ObjectId('52cdef7c4bab8bd67529814f'), 'name': 'Twenga', 'ipo': None},\n",
       " {'_id': ObjectId('52cdef7c4bab8bd675298157'),\n",
       "  'name': 'FastBooking',\n",
       "  'ipo': None},\n",
       " {'_id': ObjectId('52cdef7c4bab8bd67529815a'),\n",
       "  'name': 'Skyscanner',\n",
       "  'ipo': None},\n",
       " {'_id': ObjectId('52cdef7c4bab8bd675298164'), 'name': 'Bahu', 'ipo': None},\n",
       " {'_id': ObjectId('52cdef7c4bab8bd67529817e'), 'name': 'Libersy', 'ipo': None},\n",
       " {'_id': ObjectId('52cdef7c4bab8bd6752981f4'), 'name': 'Badoo', 'ipo': None},\n",
       " {'_id': ObjectId('52cdef7c4bab8bd6752981f5'),\n",
       "  'name': 'UnLtdWorld',\n",
       "  'ipo': None},\n",
       " {'_id': ObjectId('52cdef7c4bab8bd675298201'), 'name': 'Twingly', 'ipo': None},\n",
       " {'_id': ObjectId('52cdef7c4bab8bd675298202'),\n",
       "  'name': 'XING',\n",
       "  'ipo': {'valuation_amount': None,\n",
       "   'valuation_currency_code': 'USD',\n",
       "   'pub_year': None,\n",
       "   'pub_month': None,\n",
       "   'pub_day': None,\n",
       "   'stock_symbol': 'XNGAF'}}]"
      ]
     },
     "execution_count": 70,
     "metadata": {},
     "output_type": "execute_result"
    }
   ],
   "source": [
    "list(db.companies.find({'total_money_raised':{'$gt':'100M'}, 'founded_year':{'$lt':2010}}, {'name', 'ipo'}))[:20]"
   ]
  },
  {
   "cell_type": "markdown",
   "metadata": {},
   "source": [
    "### 5. All the companies that have less than 1000 employees and have been founded before 2005. Order them by the number of employees and limit the search to 10 companies."
   ]
  },
  {
   "cell_type": "code",
   "execution_count": 76,
   "metadata": {},
   "outputs": [
    {
     "data": {
      "text/plain": [
       "[{'name': 'Fox Interactive Media'},\n",
       " {'name': 'Skype'},\n",
       " {'name': 'Ticketmaster'},\n",
       " {'name': 'stylediary'},\n",
       " {'name': 'MindTouch'},\n",
       " {'name': 'Simpy'},\n",
       " {'name': 'Eurekster'},\n",
       " {'name': 'Compete'},\n",
       " {'name': 'EditGrid'},\n",
       " {'name': 'Monster'}]"
      ]
     },
     "execution_count": 76,
     "metadata": {},
     "output_type": "execute_result"
    }
   ],
   "source": [
    "list(db.companies.find({'number_of_employees':{'$lte':1000}, 'founded_year':{'$lt':2005}},\\\n",
    "                       {'name':1, '_id':0}).sort('number_of_employees').limit(10))"
   ]
  },
  {
   "cell_type": "markdown",
   "metadata": {},
   "source": [
    "### 6. All the companies that don't include the `partners` field."
   ]
  },
  {
   "cell_type": "code",
   "execution_count": 34,
   "metadata": {},
   "outputs": [
    {
     "data": {
      "text/plain": [
       "[]"
      ]
     },
     "execution_count": 34,
     "metadata": {},
     "output_type": "execute_result"
    }
   ],
   "source": [
    "list(db.companies.find({'partners':{'$exists':False}}))"
   ]
  },
  {
   "cell_type": "markdown",
   "metadata": {},
   "source": [
    "### 7. All the companies that have a null type of value on the `category_code` field."
   ]
  },
  {
   "cell_type": "code",
   "execution_count": 47,
   "metadata": {},
   "outputs": [
    {
     "data": {
      "text/plain": [
       "[{'_id': ObjectId('52cdef7c4bab8bd6752980f6'), 'name': 'Collective'},\n",
       " {'_id': ObjectId('52cdef7c4bab8bd675298225'), 'name': 'Snimmer'},\n",
       " {'_id': ObjectId('52cdef7c4bab8bd675298226'), 'name': 'KoolIM'},\n",
       " {'_id': ObjectId('52cdef7c4bab8bd675298261'), 'name': 'Level9 Media'},\n",
       " {'_id': ObjectId('52cdef7c4bab8bd675298262'), 'name': 'VidKing'},\n",
       " {'_id': ObjectId('52cdef7c4bab8bd67529826e'), 'name': 'Drigg'},\n",
       " {'_id': ObjectId('52cdef7c4bab8bd675298276'), 'name': 'SpaceTime'},\n",
       " {'_id': ObjectId('52cdef7c4bab8bd675298279'), 'name': 'Touch Clarity'},\n",
       " {'_id': ObjectId('52cdef7c4bab8bd67529827a'), 'name': 'MMDAYS'},\n",
       " {'_id': ObjectId('52cdef7c4bab8bd67529827b'), 'name': 'Inside Group'},\n",
       " {'_id': ObjectId('52cdef7c4bab8bd67529827e'), 'name': 'Repeater Store'},\n",
       " {'_id': ObjectId('52cdef7c4bab8bd675298288'), 'name': 'Tapesh'},\n",
       " {'_id': ObjectId('52cdef7c4bab8bd675298289'), 'name': 'iPersians'},\n",
       " {'_id': ObjectId('52cdef7c4bab8bd67529828a'), 'name': 'NewPersia'},\n",
       " {'_id': ObjectId('52cdef7c4bab8bd6752982ab'), 'name': 'Pyra Labs'},\n",
       " {'_id': ObjectId('52cdef7c4bab8bd6752982b3'), 'name': 'Feedmap'},\n",
       " {'_id': ObjectId('52cdef7c4bab8bd6752982e0'), 'name': 'NuvoMedia'},\n",
       " {'_id': ObjectId('52cdef7c4bab8bd6752982e4'), 'name': 'Intwine'},\n",
       " {'_id': ObjectId('52cdef7c4bab8bd6752982ef'),\n",
       "  'name': 'The Weinstein Company'},\n",
       " {'_id': ObjectId('52cdef7c4bab8bd6752982f2'), 'name': 'ExecuNet'}]"
      ]
     },
     "execution_count": 47,
     "metadata": {},
     "output_type": "execute_result"
    }
   ],
   "source": [
    "list(db.companies.find({'category_code':None}, {'name'}))[:20]\n",
    "\n"
   ]
  },
  {
   "cell_type": "markdown",
   "metadata": {},
   "source": [
    "### 8. All the companies that have at least 100 employees but less than 1000. Retrieve only the `name` and `number of employees` fields."
   ]
  },
  {
   "cell_type": "code",
   "execution_count": 67,
   "metadata": {},
   "outputs": [
    {
     "data": {
      "text/plain": [
       "[{'name': 'AdventNet', 'number_of_employees': 600},\n",
       " {'name': 'Zoho', 'number_of_employees': 1600},\n",
       " {'name': 'Facebook', 'number_of_employees': 5299},\n",
       " {'name': 'Twitter', 'number_of_employees': 1300},\n",
       " {'name': 'eBay', 'number_of_employees': 15000},\n",
       " {'name': 'Cisco', 'number_of_employees': 63000},\n",
       " {'name': 'Yahoo!', 'number_of_employees': 13600},\n",
       " {'name': 'AddThis', 'number_of_employees': 120},\n",
       " {'name': 'OpenX', 'number_of_employees': 305},\n",
       " {'name': 'LifeLock', 'number_of_employees': 644},\n",
       " {'name': 'Google', 'number_of_employees': 28000},\n",
       " {'name': 'Jajah', 'number_of_employees': 110},\n",
       " {'name': 'Livestream', 'number_of_employees': 120},\n",
       " {'name': 'Ustream', 'number_of_employees': 250},\n",
       " {'name': 'Intel', 'number_of_employees': 86300},\n",
       " {'name': 'iContact', 'number_of_employees': 300},\n",
       " {'name': 'Yelp', 'number_of_employees': 800},\n",
       " {'name': 'Dailymotion', 'number_of_employees': 120},\n",
       " {'name': 'RockYou', 'number_of_employees': 106},\n",
       " {'name': 'Meebo', 'number_of_employees': 200}]"
      ]
     },
     "execution_count": 67,
     "metadata": {},
     "output_type": "execute_result"
    }
   ],
   "source": [
    "list(db.companies.find({'$and':[{'number_of_employees':{'$lte':1000},\\\n",
    "                                'number_of_employees':{'$gte':100}}]},\\\n",
    "                        {'name':1, 'number_of_employees':1, '_id':0}))[:20]\n",
    "#$and"
   ]
  },
  {
   "cell_type": "markdown",
   "metadata": {},
   "source": [
    "### 9. Order all the companies by their IPO price descendently."
   ]
  },
  {
   "cell_type": "code",
   "execution_count": 78,
   "metadata": {},
   "outputs": [
    {
     "data": {
      "text/plain": [
       "[{'name': 'GREE'},\n",
       " {'name': 'Facebook'},\n",
       " {'name': 'Amazon'},\n",
       " {'name': 'Twitter'},\n",
       " {'name': 'Groupon'},\n",
       " {'name': 'Tencent'},\n",
       " {'name': 'Western Digital'},\n",
       " {'name': 'LinkedIn'},\n",
       " {'name': 'BMC Software'},\n",
       " {'name': 'Rackspace'},\n",
       " {'name': 'Baidu'},\n",
       " {'name': 'TripAdvisor'},\n",
       " {'name': 'HomeAway'},\n",
       " {'name': 'Zillow'},\n",
       " {'name': 'Nielsen'},\n",
       " {'name': 'Yelp'},\n",
       " {'name': 'Chegg'},\n",
       " {'name': 'Chegg'},\n",
       " {'name': 'RPX Corporation'},\n",
       " {'name': 'Higher One'},\n",
       " {'name': 'OpenTable'},\n",
       " {'name': 'Jive Software'},\n",
       " {'name': 'BrightSource Energy'},\n",
       " {'name': 'QlikTech'},\n",
       " {'name': 'Millennial Media'},\n",
       " {'name': 'Mixi'},\n",
       " {'name': 'Cornerstone OnDemand'},\n",
       " {'name': 'Infoblox'},\n",
       " {'name': 'SolarWinds'},\n",
       " {'name': 'Wix'},\n",
       " {'name': 'Marketo'},\n",
       " {'name': 'Opsware'},\n",
       " {'name': 'Emdeon'},\n",
       " {'name': 'Shutterfly'},\n",
       " {'name': 'Telenav'},\n",
       " {'name': 'Rally Software'},\n",
       " {'name': 'STR'},\n",
       " {'name': 'Brightcove'},\n",
       " {'name': 'ChannelAdvisor'},\n",
       " {'name': 'Elster Group'},\n",
       " {'name': 'DemandTec'},\n",
       " {'name': 'KIT digital'},\n",
       " {'name': 'Tudou'},\n",
       " {'name': 'DivX'},\n",
       " {'name': 'QuinStreet'},\n",
       " {'name': 'Geeknet'},\n",
       " {'name': 'Salesforce'},\n",
       " {'name': 'JumpTV'},\n",
       " {'name': 'EnerNOC'},\n",
       " {'name': 'Meru Networks'},\n",
       " {'name': 'Real Goods Solar'},\n",
       " {'name': 'Global Water'},\n",
       " {'name': 'Pironet'},\n",
       " {'name': 'Pironet'},\n",
       " {'name': 'Inuvo'},\n",
       " {'name': 'Inuvo'},\n",
       " {'name': 'Energy and Power Solutions'},\n",
       " {'name': 'Vringo'},\n",
       " {'name': 'GT Solar'},\n",
       " {'name': 'DeNA'},\n",
       " {'name': 'DeNA'}]"
      ]
     },
     "execution_count": 78,
     "metadata": {},
     "output_type": "execute_result"
    }
   ],
   "source": [
    "list(db.companies.find({'ipo.valuation_amount':{'$gte':0}},\\\n",
    "                       {'name':1, '_id':0}).sort('ipo.valuation_amount', -1))\n",
    "#ipo.valuation_amount' #sort -1 (para de manera descendente)\n"
   ]
  },
  {
   "cell_type": "markdown",
   "metadata": {},
   "source": [
    "### 10. Retrieve the 10 companies with more employees, order by the `number of employees`"
   ]
  },
  {
   "cell_type": "code",
   "execution_count": 83,
   "metadata": {},
   "outputs": [
    {
     "data": {
      "text/plain": [
       "[{'name': 'Siemens', 'number_of_employees': 405000},\n",
       " {'name': 'IBM', 'number_of_employees': 388000},\n",
       " {'name': 'Toyota', 'number_of_employees': 320000},\n",
       " {'name': 'PayPal', 'number_of_employees': 300000},\n",
       " {'name': 'Nippon Telegraph and Telephone Corporation',\n",
       "  'number_of_employees': 227000},\n",
       " {'name': 'Samsung Electronics', 'number_of_employees': 221726},\n",
       " {'name': 'Accenture', 'number_of_employees': 205000},\n",
       " {'name': 'Tata Consultancy Services', 'number_of_employees': 200300},\n",
       " {'name': 'Flextronics International', 'number_of_employees': 200000},\n",
       " {'name': 'Safeway', 'number_of_employees': 186000}]"
      ]
     },
     "execution_count": 83,
     "metadata": {},
     "output_type": "execute_result"
    }
   ],
   "source": [
    "#ordenar de manera descendente para obtener la que mas empleados tiene\n",
    "list(db.companies.find({'number_of_employees':{'$gt':0}},\\\n",
    "                       {'_id':0, 'name':1, 'number_of_employees':1}\n",
    "                      ).sort('number_of_employees', -1).limit(10))"
   ]
  },
  {
   "cell_type": "markdown",
   "metadata": {},
   "source": [
    "### 11. All the companies founded on the second semester of the year. Limit your search to 1000 companies."
   ]
  },
  {
   "cell_type": "code",
   "execution_count": null,
   "metadata": {},
   "outputs": [],
   "source": []
  },
  {
   "cell_type": "markdown",
   "metadata": {},
   "source": [
    "### 12. All the companies that have been 'deadpooled' after the third year."
   ]
  },
  {
   "cell_type": "code",
   "execution_count": null,
   "metadata": {},
   "outputs": [],
   "source": [
    "#and\n",
    "#where: this.deadpooled_year-this.found_year>3\n",
    "#this. se refiere al propio documento"
   ]
  },
  {
   "cell_type": "markdown",
   "metadata": {},
   "source": [
    "### 13. All the companies founded before 2000 that have and acquisition amount of more than 10.000.000"
   ]
  },
  {
   "cell_type": "code",
   "execution_count": null,
   "metadata": {},
   "outputs": [],
   "source": [
    "#acquisition.price_amount"
   ]
  },
  {
   "cell_type": "markdown",
   "metadata": {},
   "source": [
    "### 14. All the companies that have been acquired after 2015, order by the acquisition amount, and retrieve only their `name` and `acquisiton` field."
   ]
  },
  {
   "cell_type": "code",
   "execution_count": null,
   "metadata": {},
   "outputs": [],
   "source": [
    " #acquisitions.acquired_year\n",
    "# la base de datos se acaba en 2013 no existe ninguna despues de 2015"
   ]
  },
  {
   "cell_type": "markdown",
   "metadata": {},
   "source": [
    "### 15. Order the companies by their `founded year`, retrieving only their `name` and `founded year`."
   ]
  },
  {
   "cell_type": "code",
   "execution_count": null,
   "metadata": {},
   "outputs": [],
   "source": []
  },
  {
   "cell_type": "markdown",
   "metadata": {},
   "source": [
    "### 16. All the companies that have been founded on the first seven days of the month, including the seventh. Sort them by their `aquisition price` descendently. Limit the search to 10 documents."
   ]
  },
  {
   "cell_type": "code",
   "execution_count": null,
   "metadata": {},
   "outputs": [],
   "source": []
  },
  {
   "cell_type": "markdown",
   "metadata": {},
   "source": [
    "### 17. All the companies on the 'web' `category` that have more than 4000 employees. Sort them by the amount of employees in ascendant order."
   ]
  },
  {
   "cell_type": "code",
   "execution_count": null,
   "metadata": {},
   "outputs": [],
   "source": []
  },
  {
   "cell_type": "markdown",
   "metadata": {},
   "source": [
    "### 18. All the companies which their acquisition amount is more than 10.000.000, and currency are 'EUR'.\n"
   ]
  },
  {
   "cell_type": "code",
   "execution_count": null,
   "metadata": {},
   "outputs": [],
   "source": []
  },
  {
   "cell_type": "markdown",
   "metadata": {},
   "source": [
    "### 19. All the companies that have been acquired on the first trimester of the year. Limit the search to 10 companies, and retrieve only their `name` and `acquisition` fields."
   ]
  },
  {
   "cell_type": "code",
   "execution_count": null,
   "metadata": {},
   "outputs": [],
   "source": []
  },
  {
   "cell_type": "markdown",
   "metadata": {},
   "source": [
    "### 20. All the companies that have been founded between 2000 and 2010, but have not been acquired before 2011."
   ]
  },
  {
   "cell_type": "code",
   "execution_count": null,
   "metadata": {},
   "outputs": [],
   "source": []
  }
 ],
 "metadata": {
  "kernelspec": {
   "display_name": "Python 3",
   "language": "python",
   "name": "python3"
  },
  "language_info": {
   "codemirror_mode": {
    "name": "ipython",
    "version": 3
   },
   "file_extension": ".py",
   "mimetype": "text/x-python",
   "name": "python",
   "nbconvert_exporter": "python",
   "pygments_lexer": "ipython3",
   "version": "3.7.4"
  }
 },
 "nbformat": 4,
 "nbformat_minor": 2
}
