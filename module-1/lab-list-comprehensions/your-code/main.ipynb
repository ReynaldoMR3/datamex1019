{
 "cells": [
  {
   "cell_type": "markdown",
   "metadata": {},
   "source": [
    "# List Comprehensions Lab\n",
    "\n",
    "Complete the following set of exercises to solidify your knowledge of list comprehensions."
   ]
  },
  {
   "cell_type": "code",
   "execution_count": 13,
   "metadata": {},
   "outputs": [
    {
     "name": "stdout",
     "output_type": "stream",
     "text": [
      "Requirement already satisfied: numpy in /usr/local/lib/python3.7/site-packages (1.17.3)\n",
      "Note: you may need to restart the kernel to use updated packages.\n"
     ]
    }
   ],
   "source": [
    "pip install numpy "
   ]
  },
  {
   "cell_type": "code",
   "execution_count": 15,
   "metadata": {},
   "outputs": [
    {
     "name": "stdout",
     "output_type": "stream",
     "text": [
      "Collecting pandas\n",
      "\u001b[?25l  Downloading https://files.pythonhosted.org/packages/39/90/c2cac34acd673ceddf5beaa1a8375dc32e0c2399fa09363917148adeefdb/pandas-0.25.2-cp37-cp37m-macosx_10_9_x86_64.whl (10.2MB)\n",
      "\u001b[K     |████████████████████████████████| 10.2MB 6.0MB/s eta 0:00:01    |████▊                           | 1.5MB 906kB/s eta 0:00:10\n",
      "\u001b[?25hCollecting pytz>=2017.2 (from pandas)\n",
      "\u001b[?25l  Downloading https://files.pythonhosted.org/packages/e7/f9/f0b53f88060247251bf481fa6ea62cd0d25bf1b11a87888e53ce5b7c8ad2/pytz-2019.3-py2.py3-none-any.whl (509kB)\n",
      "\u001b[K     |████████████████████████████████| 512kB 6.2MB/s eta 0:00:01\n",
      "\u001b[?25hRequirement already satisfied: python-dateutil>=2.6.1 in /usr/local/Cellar/ipython/7.8.0/libexec/vendor/lib/python3.7/site-packages (from pandas) (2.8.0)\n",
      "Requirement already satisfied: numpy>=1.13.3 in /usr/local/lib/python3.7/site-packages (from pandas) (1.17.3)\n",
      "Requirement already satisfied: six>=1.5 in /usr/local/Cellar/ipython/7.8.0/libexec/vendor/lib/python3.7/site-packages (from python-dateutil>=2.6.1->pandas) (1.12.0)\n",
      "Installing collected packages: pytz, pandas\n",
      "Successfully installed pandas-0.25.2 pytz-2019.3\n",
      "Note: you may need to restart the kernel to use updated packages.\n"
     ]
    }
   ],
   "source": [
    "pip install pandas"
   ]
  },
  {
   "cell_type": "code",
   "execution_count": 47,
   "metadata": {},
   "outputs": [],
   "source": [
    "import os\n",
    "import numpy as np\n",
    "import pandas as pd"
   ]
  },
  {
   "cell_type": "markdown",
   "metadata": {},
   "source": [
    "### 1. Use a list comprehension to create and print a list of consecutive integers starting with 1 and ending with 50."
   ]
  },
  {
   "cell_type": "code",
   "execution_count": 48,
   "metadata": {},
   "outputs": [
    {
     "name": "stdout",
     "output_type": "stream",
     "text": [
      "[1, 2, 3, 4, 5, 6, 7, 8, 9, 10, 11, 12, 13, 14, 15, 16, 17, 18, 19, 20, 21, 22, 23, 24, 25, 26, 27, 28, 29, 30, 31, 32, 33, 34, 35, 36, 37, 38, 39, 40, 41, 42, 43, 44, 45, 46, 47, 48, 49, 50]\n"
     ]
    }
   ],
   "source": [
    "consecutive_ints = list(i for i in range(1,51,1))\n",
    "print(consecutive_ints)"
   ]
  },
  {
   "cell_type": "markdown",
   "metadata": {},
   "source": [
    "### 2. Use a list comprehension to create and print a list of even numbers starting with 2 and ending with 200."
   ]
  },
  {
   "cell_type": "code",
   "execution_count": 49,
   "metadata": {},
   "outputs": [
    {
     "name": "stdout",
     "output_type": "stream",
     "text": [
      "[2, 4, 6, 8, 10, 12, 14, 16, 18, 20, 22, 24, 26, 28, 30, 32, 34, 36, 38, 40, 42, 44, 46, 48, 50, 52, 54, 56, 58, 60, 62, 64, 66, 68, 70, 72, 74, 76, 78, 80, 82, 84, 86, 88, 90, 92, 94, 96, 98, 100, 102, 104, 106, 108, 110, 112, 114, 116, 118, 120, 122, 124, 126, 128, 130, 132, 134, 136, 138, 140, 142, 144, 146, 148, 150, 152, 154, 156, 158, 160, 162, 164, 166, 168, 170, 172, 174, 176, 178, 180, 182, 184, 186, 188, 190, 192, 194, 196, 198, 200]\n"
     ]
    }
   ],
   "source": [
    "even_nums = list(i for i in range(2, 202, 1) if i%2 == 0)\n",
    "print(even_nums)"
   ]
  },
  {
   "cell_type": "markdown",
   "metadata": {},
   "source": [
    "### 3. Use a list comprehension to create and print a list containing all elements of the 10 x 4 Numpy array below."
   ]
  },
  {
   "cell_type": "code",
   "execution_count": 50,
   "metadata": {},
   "outputs": [],
   "source": [
    "a = np.array([[0.84062117, 0.48006452, 0.7876326 , 0.77109654],\n",
    "       [0.44409793, 0.09014516, 0.81835917, 0.87645456],\n",
    "       [0.7066597 , 0.09610873, 0.41247947, 0.57433389],\n",
    "       [0.29960807, 0.42315023, 0.34452557, 0.4751035 ],\n",
    "       [0.17003563, 0.46843998, 0.92796258, 0.69814654],\n",
    "       [0.41290051, 0.19561071, 0.16284783, 0.97016248],\n",
    "       [0.71725408, 0.87702738, 0.31244595, 0.76615487],\n",
    "       [0.20754036, 0.57871812, 0.07214068, 0.40356048],\n",
    "       [0.12149553, 0.53222417, 0.9976855 , 0.12536346],\n",
    "       [0.80930099, 0.50962849, 0.94555126, 0.33364763]])"
   ]
  },
  {
   "cell_type": "code",
   "execution_count": 119,
   "metadata": {},
   "outputs": [
    {
     "name": "stdout",
     "output_type": "stream",
     "text": [
      "[[0.666553867735659, 0.8074731006569743, 0.02597091295741283, 0.9859681174342718], [0.02547913214512776, 0.16779182125192937, 0.1534588261764821, 0.6757005586143534], [0.42106863792219906, 0.056647788434729285, 0.4072343948813001, 0.2571764952063391], [0.9057267047405025, 0.058384951023791154, 0.9873213996669077, 0.5570980435584523], [0.11826076656745044, 0.7368396115896597, 0.09389068155649449, 0.6420278087788504], [0.5454455697432525, 0.18254404167473204, 0.9384127091348103, 0.19714847493060494], [0.8688704049337247, 0.0669125085298995, 0.5585603170019694, 0.6458321843939094], [0.16995444540682836, 0.0045953450016928965, 0.15166980865903124, 0.7949719338620712], [0.12711211699845948, 0.7482370974730234, 0.9698772335820118, 0.41609552306675557], [0.9196880585438463, 0.21153675191038002, 0.8491855131154137, 0.3096123834209623]]\n"
     ]
    },
    {
     "data": {
      "text/plain": [
       "(10, 4)"
      ]
     },
     "execution_count": 119,
     "metadata": {},
     "output_type": "execute_result"
    }
   ],
   "source": [
    "import random\n",
    "new_a = [[random.uniform(0,1) for i in range(4)] for e in range(10)]\n",
    "print(new_a)\n",
    "new_new_a = np.array(new_a)\n",
    "new_new_a.shape"
   ]
  },
  {
   "cell_type": "markdown",
   "metadata": {},
   "source": [
    "### 4. Add a condition to the list comprehension above so that only values greater than or equal to 0.5 are printed."
   ]
  },
  {
   "cell_type": "code",
   "execution_count": 115,
   "metadata": {},
   "outputs": [
    {
     "name": "stdout",
     "output_type": "stream",
     "text": [
      "[[0.7845905509125515, 0.6976599064891269, 0.926348221621627, 0.879384206848882], [0.8594458130310555, 0.8859464921704205, 0.702020937793564, 0.8656471122458703], [0.9138784628031187, 0.699762805156022, 0.5094723730780774, 0.9731570266613034], [0.5171149561256527, 0.5003407760100302, 0.9813408136859801, 0.8805251968024087], [0.976784174860433, 0.667236349529424, 0.653954247371815, 0.6890585645660161], [0.6151687751351175, 0.8478838040682322, 0.7804097045855142, 0.7586673098255741], [0.5426347569811385, 0.5837079060178483, 0.6311891749049671, 0.6192476789735694], [0.7508682434718451, 0.8270598632593562, 0.9503554489841162, 0.6192763067494775], [0.5462238691014167, 0.7162632540534046, 0.6939176703702397, 0.7410567214773424], [0.7340011987374051, 0.6146652601766787, 0.6335652404323471, 0.6650992747049597]]\n"
     ]
    }
   ],
   "source": [
    "new_a = [[random.uniform(0.5,1) for i in range(4)] for e in range(10)]\n",
    "print(new_a)"
   ]
  },
  {
   "cell_type": "markdown",
   "metadata": {},
   "source": [
    "### 5. Use a list comprehension to create and print a list containing all elements of the 5 x 2 x 3 Numpy array below."
   ]
  },
  {
   "cell_type": "code",
   "execution_count": null,
   "metadata": {},
   "outputs": [],
   "source": [
    "b = np.array([[[0.55867166, 0.06210792, 0.08147297],\n",
    "        [0.82579068, 0.91512478, 0.06833034]],\n",
    "\n",
    "       [[0.05440634, 0.65857693, 0.30296619],\n",
    "        [0.06769833, 0.96031863, 0.51293743]],\n",
    "\n",
    "       [[0.09143215, 0.71893382, 0.45850679],\n",
    "        [0.58256464, 0.59005654, 0.56266457]],\n",
    "\n",
    "       [[0.71600294, 0.87392666, 0.11434044],\n",
    "        [0.8694668 , 0.65669313, 0.10708681]],\n",
    "\n",
    "       [[0.07529684, 0.46470767, 0.47984544],\n",
    "        [0.65368638, 0.14901286, 0.23760688]]])"
   ]
  },
  {
   "cell_type": "code",
   "execution_count": 122,
   "metadata": {},
   "outputs": [
    {
     "name": "stdout",
     "output_type": "stream",
     "text": [
      "[[[0.30677118121858393, 0.16524066689800876, 0.7620599160717499], [0.10718439339890118, 0.7703202455733026, 0.7993953582511486]], [[0.8447130408476513, 0.4989042261960467, 0.528246366138321], [0.8311603997651545, 0.36904517325853226, 0.7901542031885209]], [[0.29477515583004577, 0.6906993445349487, 0.7927226215108274], [0.4067087181052801, 0.8169795215987203, 0.042945820691536074]], [[0.2972904829250189, 0.6207273653317089, 0.4637020740545139], [0.10396533757433468, 0.20253561067224735, 0.49532912424560127]], [[0.5534528714227047, 0.06899088216494209, 0.282336394693103], [0.18095292610651592, 0.46251836084717124, 0.29594447700500737]]]\n"
     ]
    },
    {
     "data": {
      "text/plain": [
       "(5, 2, 3)"
      ]
     },
     "execution_count": 122,
     "metadata": {},
     "output_type": "execute_result"
    }
   ],
   "source": [
    "new_b =[[[random.uniform(0,1)for i in range(3)]for e in range(2)]for f in range(5)]\n",
    "print(new_b)\n",
    "new_new_b = np.array(new_b)\n",
    "new_new_b.shape"
   ]
  },
  {
   "cell_type": "markdown",
   "metadata": {},
   "source": [
    "### 5. Add a condition to the list comprehension above so that the last value in each subarray is printed, but only if it is less than or equal to 0.5."
   ]
  },
  {
   "cell_type": "code",
   "execution_count": 123,
   "metadata": {},
   "outputs": [
    {
     "name": "stdout",
     "output_type": "stream",
     "text": [
      "[[[0.6996751873838489, 0.7626083398496488, 0.5074495139511238], [0.8280287540958426, 0.8164603721999658, 0.8414437116743969]], [[0.8717932397427212, 0.7885868689112681, 0.974128135892667], [0.920439716614166, 0.8601487881679404, 0.6237289054867263]], [[0.9408616354306087, 0.9863697969410488, 0.5208908423587125], [0.6617269725744145, 0.9041216773880244, 0.9836388369582078]], [[0.7439382458232959, 0.9512114914681842, 0.8164959164950698], [0.8808490385801921, 0.7629146682302932, 0.8414176766507042]], [[0.8879062394797315, 0.8148282920844037, 0.8952893214714854], [0.7732878656824014, 0.8451774113182113, 0.6502566619212512]]]\n"
     ]
    }
   ],
   "source": [
    "new_b =[[[random.uniform(0.5,1)for i in range(3)]for e in range(2)]for f in range(5)]\n",
    "print(new_b)"
   ]
  },
  {
   "cell_type": "markdown",
   "metadata": {},
   "source": [
    "### 6. Use a list comprehension to select and print the names of all CSV files in the */data* directory."
   ]
  },
  {
   "cell_type": "code",
   "execution_count": 140,
   "metadata": {},
   "outputs": [
    {
     "name": "stdout",
     "output_type": "stream",
     "text": [
      "[          0         1  ...        18        19\n",
      "0  0.276827  0.260054  ...  0.952291  0.286542\n",
      "1  0.995885  0.158381  ...  0.549324  0.572232\n",
      "2  0.641917  0.821055  ...  0.531757  0.489528\n",
      "3  0.806532  0.569258  ...  0.685976  0.246594\n",
      "4  0.311185  0.501165  ...  0.022881  0.479022\n",
      "\n",
      "[5 rows x 20 columns],           0         1  ...        18        19\n",
      "0  0.734751  0.195362  ...  0.937828  0.880858\n",
      "1  0.772607  0.445391  ...  0.016787  0.503695\n",
      "2  0.226428  0.268764  ...  0.517694  0.646110\n",
      "3  0.362748  0.495430  ...  0.771144  0.489660\n",
      "4  0.033415  0.340433  ...  0.109349  0.872947\n",
      "\n",
      "[5 rows x 20 columns],           0         1  ...        18        19\n",
      "0  0.948664  0.215285  ...  0.651457  0.803393\n",
      "1  0.163236  0.803926  ...  0.841539  0.964889\n",
      "2  0.934136  0.031410  ...  0.244210  0.313071\n",
      "3  0.757038  0.918964  ...  0.145952  0.873029\n",
      "4  0.263455  0.816283  ...  0.542376  0.668447\n",
      "\n",
      "[5 rows x 20 columns],           0         1  ...        18        19\n",
      "0  0.376101  0.896590  ...  0.117277  0.213938\n",
      "1  0.498192  0.565500  ...  0.877048  0.310951\n",
      "2  0.635284  0.247512  ...  0.386949  0.396453\n",
      "3  0.647497  0.072412  ...  0.962827  0.026952\n",
      "4  0.170792  0.586900  ...  0.830389  0.931145\n",
      "\n",
      "[5 rows x 20 columns],           0         1  ...        18        19\n",
      "0  0.460281  0.308551  ...  0.773953  0.295344\n",
      "1  0.065851  0.736029  ...  0.493862  0.577262\n",
      "2  0.671323  0.747296  ...  0.592733  0.002596\n",
      "3  0.445478  0.523522  ...  0.177419  0.926007\n",
      "4  0.291399  0.551248  ...  0.803629  0.792851\n",
      "\n",
      "[5 rows x 20 columns],           0         1  ...        18        19\n",
      "0  0.702566  0.092336  ...  0.472826  0.551858\n",
      "1  0.177005  0.649551  ...  0.485385  0.686294\n",
      "2  0.689556  0.445586  ...  0.051382  0.203699\n",
      "3  0.047188  0.854596  ...  0.372739  0.739383\n",
      "4  0.936065  0.725831  ...  0.885516  0.667051\n",
      "\n",
      "[5 rows x 20 columns],           0         1  ...        18        19\n",
      "0  0.901381  0.790944  ...  0.212403  0.572150\n",
      "1  0.763823  0.537281  ...  0.057953  0.060306\n",
      "2  0.571864  0.386243  ...  0.458360  0.048740\n",
      "3  0.956168  0.422274  ...  0.571539  0.560742\n",
      "4  0.121826  0.237479  ...  0.547297  0.177401\n",
      "\n",
      "[5 rows x 20 columns],           0         1  ...        18        19\n",
      "0  0.437114  0.156941  ...  0.520295  0.945250\n",
      "1  0.213337  0.503490  ...  0.122453  0.115311\n",
      "2  0.625692  0.184609  ...  0.816036  0.582192\n",
      "3  0.642007  0.175592  ...  0.035150  0.528075\n",
      "4  0.809129  0.549374  ...  0.448741  0.827487\n",
      "\n",
      "[5 rows x 20 columns],           0         1  ...        18        19\n",
      "0  0.132453  0.106635  ...  0.562498  0.968681\n",
      "1  0.384938  0.767604  ...  0.169525  0.966198\n",
      "2  0.318691  0.675720  ...  0.163670  0.724486\n",
      "3  0.538593  0.291241  ...  0.794426  0.837695\n",
      "4  0.713271  0.156210  ...  0.891382  0.398914\n",
      "\n",
      "[5 rows x 20 columns],           0         1  ...        18        19\n",
      "0  0.215190  0.155352  ...  0.113432  0.349845\n",
      "1  0.895544  0.955196  ...  0.984628  0.516899\n",
      "2  0.413752  0.693052  ...  0.797836  0.197592\n",
      "3  0.728001  0.348156  ...  0.931542  0.448124\n",
      "4  0.134942  0.875931  ...  0.847818  0.588319\n",
      "\n",
      "[5 rows x 20 columns]]\n"
     ]
    }
   ],
   "source": [
    "file_list = [f for f in os.listdir('../data') if f.endswith('.csv')]\n",
    "data_sets = [pd.read_csv(os.path.join('../data', f)) for f in file_list]\n",
    "print(data_sets)"
   ]
  },
  {
   "cell_type": "markdown",
   "metadata": {},
   "source": [
    "### 7. Use a list comprehension and the Pandas `read_csv` and `concat` methods to read all CSV files in the */data* directory and combine them into a single data frame. Display the top 10 rows of the resulting data frame."
   ]
  },
  {
   "cell_type": "code",
   "execution_count": 145,
   "metadata": {},
   "outputs": [
    {
     "name": "stdout",
     "output_type": "stream",
     "text": [
      "          0         1  ...        18        19\n",
      "0  0.276827  0.260054  ...  0.952291  0.286542\n",
      "1  0.995885  0.158381  ...  0.549324  0.572232\n",
      "2  0.641917  0.821055  ...  0.531757  0.489528\n",
      "3  0.806532  0.569258  ...  0.685976  0.246594\n",
      "4  0.311185  0.501165  ...  0.022881  0.479022\n",
      "0  0.734751  0.195362  ...  0.937828  0.880858\n",
      "1  0.772607  0.445391  ...  0.016787  0.503695\n",
      "2  0.226428  0.268764  ...  0.517694  0.646110\n",
      "3  0.362748  0.495430  ...  0.771144  0.489660\n",
      "4  0.033415  0.340433  ...  0.109349  0.872947\n",
      "\n",
      "[10 rows x 20 columns]\n"
     ]
    }
   ],
   "source": [
    "data = pd.concat(data_sets, axis=0)\n",
    "print(data.head(10))"
   ]
  },
  {
   "cell_type": "markdown",
   "metadata": {},
   "source": [
    "### 8. Use a list comprehension to select and print the column numbers for columns from the data set whose median is less than 0.48."
   ]
  },
  {
   "cell_type": "code",
   "execution_count": 147,
   "metadata": {},
   "outputs": [
    {
     "name": "stdout",
     "output_type": "stream",
     "text": [
      "['1', '9', '12']\n"
     ]
    }
   ],
   "source": [
    "columns = [col for col in data._get_numeric_data() if data[col].mean() < 0.48]\n",
    "print(columns)"
   ]
  },
  {
   "cell_type": "markdown",
   "metadata": {},
   "source": [
    "### 9. Use a list comprehension to add a new column (20) to the data frame whose values are the values in column 19 minus 0.1. Display the top 10 rows of the resulting data frame."
   ]
  },
  {
   "cell_type": "code",
   "execution_count": 159,
   "metadata": {},
   "outputs": [
    {
     "data": {
      "text/html": [
       "<div>\n",
       "<style scoped>\n",
       "    .dataframe tbody tr th:only-of-type {\n",
       "        vertical-align: middle;\n",
       "    }\n",
       "\n",
       "    .dataframe tbody tr th {\n",
       "        vertical-align: top;\n",
       "    }\n",
       "\n",
       "    .dataframe thead th {\n",
       "        text-align: right;\n",
       "    }\n",
       "</style>\n",
       "<table border=\"1\" class=\"dataframe\">\n",
       "  <thead>\n",
       "    <tr style=\"text-align: right;\">\n",
       "      <th></th>\n",
       "      <th>0</th>\n",
       "      <th>1</th>\n",
       "      <th>...</th>\n",
       "      <th>19</th>\n",
       "      <th>20</th>\n",
       "    </tr>\n",
       "  </thead>\n",
       "  <tbody>\n",
       "    <tr>\n",
       "      <th>0</th>\n",
       "      <td>0.276827</td>\n",
       "      <td>0.260054</td>\n",
       "      <td>...</td>\n",
       "      <td>0.286542</td>\n",
       "      <td>0.186542</td>\n",
       "    </tr>\n",
       "    <tr>\n",
       "      <th>1</th>\n",
       "      <td>0.995885</td>\n",
       "      <td>0.158381</td>\n",
       "      <td>...</td>\n",
       "      <td>0.572232</td>\n",
       "      <td>0.472232</td>\n",
       "    </tr>\n",
       "    <tr>\n",
       "      <th>2</th>\n",
       "      <td>0.641917</td>\n",
       "      <td>0.821055</td>\n",
       "      <td>...</td>\n",
       "      <td>0.489528</td>\n",
       "      <td>0.389528</td>\n",
       "    </tr>\n",
       "    <tr>\n",
       "      <th>3</th>\n",
       "      <td>0.806532</td>\n",
       "      <td>0.569258</td>\n",
       "      <td>...</td>\n",
       "      <td>0.246594</td>\n",
       "      <td>0.146594</td>\n",
       "    </tr>\n",
       "    <tr>\n",
       "      <th>4</th>\n",
       "      <td>0.311185</td>\n",
       "      <td>0.501165</td>\n",
       "      <td>...</td>\n",
       "      <td>0.479022</td>\n",
       "      <td>0.379022</td>\n",
       "    </tr>\n",
       "    <tr>\n",
       "      <th>...</th>\n",
       "      <td>...</td>\n",
       "      <td>...</td>\n",
       "      <td>...</td>\n",
       "      <td>...</td>\n",
       "      <td>...</td>\n",
       "    </tr>\n",
       "    <tr>\n",
       "      <th>0</th>\n",
       "      <td>0.215190</td>\n",
       "      <td>0.155352</td>\n",
       "      <td>...</td>\n",
       "      <td>0.349845</td>\n",
       "      <td>0.249845</td>\n",
       "    </tr>\n",
       "    <tr>\n",
       "      <th>1</th>\n",
       "      <td>0.895544</td>\n",
       "      <td>0.955196</td>\n",
       "      <td>...</td>\n",
       "      <td>0.516899</td>\n",
       "      <td>0.416899</td>\n",
       "    </tr>\n",
       "    <tr>\n",
       "      <th>2</th>\n",
       "      <td>0.413752</td>\n",
       "      <td>0.693052</td>\n",
       "      <td>...</td>\n",
       "      <td>0.197592</td>\n",
       "      <td>0.097592</td>\n",
       "    </tr>\n",
       "    <tr>\n",
       "      <th>3</th>\n",
       "      <td>0.728001</td>\n",
       "      <td>0.348156</td>\n",
       "      <td>...</td>\n",
       "      <td>0.448124</td>\n",
       "      <td>0.348124</td>\n",
       "    </tr>\n",
       "    <tr>\n",
       "      <th>4</th>\n",
       "      <td>0.134942</td>\n",
       "      <td>0.875931</td>\n",
       "      <td>...</td>\n",
       "      <td>0.588319</td>\n",
       "      <td>0.488319</td>\n",
       "    </tr>\n",
       "  </tbody>\n",
       "</table>\n",
       "<p>50 rows × 21 columns</p>\n",
       "</div>"
      ],
      "text/plain": [
       "           0         1  ...        19        20\n",
       "0   0.276827  0.260054  ...  0.286542  0.186542\n",
       "1   0.995885  0.158381  ...  0.572232  0.472232\n",
       "2   0.641917  0.821055  ...  0.489528  0.389528\n",
       "3   0.806532  0.569258  ...  0.246594  0.146594\n",
       "4   0.311185  0.501165  ...  0.479022  0.379022\n",
       "..       ...       ...  ...       ...       ...\n",
       "0   0.215190  0.155352  ...  0.349845  0.249845\n",
       "1   0.895544  0.955196  ...  0.516899  0.416899\n",
       "2   0.413752  0.693052  ...  0.197592  0.097592\n",
       "3   0.728001  0.348156  ...  0.448124  0.348124\n",
       "4   0.134942  0.875931  ...  0.588319  0.488319\n",
       "\n",
       "[50 rows x 21 columns]"
      ]
     },
     "metadata": {},
     "output_type": "display_data"
    }
   ],
   "source": [
    "new_colum = pd.DataFrame(data)\n",
    "\n",
    "new_colum[\"20\"] = [e-0.1 for e in new_colum['19']]\n",
    "display(new_colum)"
   ]
  },
  {
   "cell_type": "code",
   "execution_count": 183,
   "metadata": {},
   "outputs": [
    {
     "name": "stdout",
     "output_type": "stream",
     "text": [
      "Pretty printing has been turned ON\n"
     ]
    }
   ],
   "source": [
    "#for a in data.values:\n",
    "    #for i in a:\n",
    "        #if i < 0.75 and i > 0.7:\n",
    "            #print(i)"
   ]
  },
  {
   "cell_type": "markdown",
   "metadata": {},
   "source": [
    "### 10. Use a list comprehension to extract and print all values from the data set that are between 0.7 and 0.75."
   ]
  },
  {
   "cell_type": "code",
   "execution_count": 186,
   "metadata": {},
   "outputs": [
    {
     "name": "stdout",
     "output_type": "stream",
     "text": [
      "Pretty printing has been turned OFF\n"
     ]
    },
    {
     "data": {
      "text/plain": [
       "[0.7173964318670598, 0.7173964318670598, 0.7173964318670598, 0.7173964318670598, 0.7173964318670598, 0.7173964318670598, 0.7173964318670598, 0.7173964318670598, 0.7173964318670598, 0.7173964318670598, 0.7173964318670598, 0.7173964318670598, 0.7173964318670598, 0.7173964318670598, 0.7173964318670598, 0.7173964318670598, 0.7173964318670598, 0.7173964318670598, 0.7173964318670598, 0.7173964318670598, 0.7173964318670598, 0.7173964318670598, 0.7173964318670598, 0.7173964318670598, 0.7173964318670598, 0.7173964318670598, 0.7173964318670598, 0.7173964318670598, 0.7173964318670598, 0.7173964318670598, 0.7173964318670598, 0.7173964318670598, 0.7173964318670598, 0.7173964318670598, 0.7173964318670598, 0.7173964318670598, 0.7173964318670598, 0.7173964318670598, 0.7173964318670598, 0.7173964318670598, 0.7173964318670598, 0.7173964318670598, 0.7173964318670598, 0.7173964318670598, 0.7173964318670598, 0.7173964318670598, 0.7173964318670598, 0.7173964318670598, 0.7173964318670598, 0.7173964318670598]"
      ]
     },
     "execution_count": 186,
     "metadata": {},
     "output_type": "execute_result"
    }
   ],
   "source": [
    "%pprint off\n",
    "data_extract = [i for i in a for a in data.values if i < 0.75 and i > 0.7]\n",
    "data_extract"
   ]
  },
  {
   "cell_type": "code",
   "execution_count": null,
   "metadata": {},
   "outputs": [],
   "source": []
  }
 ],
 "metadata": {
  "kernelspec": {
   "display_name": "Python 3",
   "language": "python",
   "name": "python3"
  },
  "language_info": {
   "codemirror_mode": {
    "name": "ipython",
    "version": 3
   },
   "file_extension": ".py",
   "mimetype": "text/x-python",
   "name": "python",
   "nbconvert_exporter": "python",
   "pygments_lexer": "ipython3",
   "version": "3.7.4"
  }
 },
 "nbformat": 4,
 "nbformat_minor": 2
}
