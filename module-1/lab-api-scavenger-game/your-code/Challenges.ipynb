{
 "cells": [
  {
   "cell_type": "code",
   "execution_count": 4,
   "metadata": {},
   "outputs": [],
   "source": [
    "import pandas as pd\n",
    "import json\n",
    "import requests"
   ]
  },
  {
   "cell_type": "code",
   "execution_count": 25,
   "metadata": {},
   "outputs": [
    {
     "data": {
      "text/plain": [
       "<Response [200]>"
      ]
     },
     "execution_count": 25,
     "metadata": {},
     "output_type": "execute_result"
    }
   ],
   "source": [
    "URL='https://api.github.com/repos/ironhack-datalabs/datamex1019/forks'\n",
    "\n",
    "with open('Githubu.txt','r') as f:\n",
    "    user=f.readlines()\n",
    "with open('Githuba.txt', 'r') as v:\n",
    "    key=v.readlines()\n",
    "\n",
    "res=requests.get(URL, auth=(user[0],key[0]))\n",
    "res"
   ]
  },
  {
   "cell_type": "code",
   "execution_count": 28,
   "metadata": {},
   "outputs": [
    {
     "data": {
      "text/html": [
       "<div>\n",
       "<style scoped>\n",
       "    .dataframe tbody tr th:only-of-type {\n",
       "        vertical-align: middle;\n",
       "    }\n",
       "\n",
       "    .dataframe tbody tr th {\n",
       "        vertical-align: top;\n",
       "    }\n",
       "\n",
       "    .dataframe thead th {\n",
       "        text-align: right;\n",
       "    }\n",
       "</style>\n",
       "<table border=\"1\" class=\"dataframe\">\n",
       "  <thead>\n",
       "    <tr style=\"text-align: right;\">\n",
       "      <th></th>\n",
       "      <th>id</th>\n",
       "      <th>node_id</th>\n",
       "      <th>name</th>\n",
       "      <th>full_name</th>\n",
       "      <th>private</th>\n",
       "      <th>html_url</th>\n",
       "      <th>description</th>\n",
       "      <th>fork</th>\n",
       "      <th>url</th>\n",
       "      <th>forks_url</th>\n",
       "      <th>...</th>\n",
       "      <th>owner.type</th>\n",
       "      <th>owner.site_admin</th>\n",
       "      <th>license.key</th>\n",
       "      <th>license.name</th>\n",
       "      <th>license.spdx_id</th>\n",
       "      <th>license.url</th>\n",
       "      <th>license.node_id</th>\n",
       "      <th>permissions.admin</th>\n",
       "      <th>permissions.push</th>\n",
       "      <th>permissions.pull</th>\n",
       "    </tr>\n",
       "  </thead>\n",
       "  <tbody>\n",
       "    <tr>\n",
       "      <th>0</th>\n",
       "      <td>218619240</td>\n",
       "      <td>MDEwOlJlcG9zaXRvcnkyMTg2MTkyNDA=</td>\n",
       "      <td>datamex1019</td>\n",
       "      <td>diegorv1994/datamex1019</td>\n",
       "      <td>False</td>\n",
       "      <td>https://github.com/diegorv1994/datamex1019</td>\n",
       "      <td>None</td>\n",
       "      <td>True</td>\n",
       "      <td>https://api.github.com/repos/diegorv1994/datam...</td>\n",
       "      <td>https://api.github.com/repos/diegorv1994/datam...</td>\n",
       "      <td>...</td>\n",
       "      <td>User</td>\n",
       "      <td>False</td>\n",
       "      <td>agpl-3.0</td>\n",
       "      <td>GNU Affero General Public License v3.0</td>\n",
       "      <td>AGPL-3.0</td>\n",
       "      <td>https://api.github.com/licenses/agpl-3.0</td>\n",
       "      <td>MDc6TGljZW5zZTE=</td>\n",
       "      <td>False</td>\n",
       "      <td>False</td>\n",
       "      <td>True</td>\n",
       "    </tr>\n",
       "    <tr>\n",
       "      <th>1</th>\n",
       "      <td>217363066</td>\n",
       "      <td>MDEwOlJlcG9zaXRvcnkyMTczNjMwNjY=</td>\n",
       "      <td>datamex1019</td>\n",
       "      <td>Sviliesid13/datamex1019</td>\n",
       "      <td>False</td>\n",
       "      <td>https://github.com/Sviliesid13/datamex1019</td>\n",
       "      <td>None</td>\n",
       "      <td>True</td>\n",
       "      <td>https://api.github.com/repos/Sviliesid13/datam...</td>\n",
       "      <td>https://api.github.com/repos/Sviliesid13/datam...</td>\n",
       "      <td>...</td>\n",
       "      <td>User</td>\n",
       "      <td>False</td>\n",
       "      <td>agpl-3.0</td>\n",
       "      <td>GNU Affero General Public License v3.0</td>\n",
       "      <td>AGPL-3.0</td>\n",
       "      <td>https://api.github.com/licenses/agpl-3.0</td>\n",
       "      <td>MDc6TGljZW5zZTE=</td>\n",
       "      <td>False</td>\n",
       "      <td>False</td>\n",
       "      <td>True</td>\n",
       "    </tr>\n",
       "    <tr>\n",
       "      <th>2</th>\n",
       "      <td>216659447</td>\n",
       "      <td>MDEwOlJlcG9zaXRvcnkyMTY2NTk0NDc=</td>\n",
       "      <td>datamex1019</td>\n",
       "      <td>diegodg78/datamex1019</td>\n",
       "      <td>False</td>\n",
       "      <td>https://github.com/diegodg78/datamex1019</td>\n",
       "      <td>None</td>\n",
       "      <td>True</td>\n",
       "      <td>https://api.github.com/repos/diegodg78/datamex...</td>\n",
       "      <td>https://api.github.com/repos/diegodg78/datamex...</td>\n",
       "      <td>...</td>\n",
       "      <td>User</td>\n",
       "      <td>False</td>\n",
       "      <td>agpl-3.0</td>\n",
       "      <td>GNU Affero General Public License v3.0</td>\n",
       "      <td>AGPL-3.0</td>\n",
       "      <td>https://api.github.com/licenses/agpl-3.0</td>\n",
       "      <td>MDc6TGljZW5zZTE=</td>\n",
       "      <td>False</td>\n",
       "      <td>False</td>\n",
       "      <td>True</td>\n",
       "    </tr>\n",
       "    <tr>\n",
       "      <th>3</th>\n",
       "      <td>216617567</td>\n",
       "      <td>MDEwOlJlcG9zaXRvcnkyMTY2MTc1Njc=</td>\n",
       "      <td>datamex1019</td>\n",
       "      <td>oscarifh/datamex1019</td>\n",
       "      <td>False</td>\n",
       "      <td>https://github.com/oscarifh/datamex1019</td>\n",
       "      <td>None</td>\n",
       "      <td>True</td>\n",
       "      <td>https://api.github.com/repos/oscarifh/datamex1019</td>\n",
       "      <td>https://api.github.com/repos/oscarifh/datamex1...</td>\n",
       "      <td>...</td>\n",
       "      <td>User</td>\n",
       "      <td>False</td>\n",
       "      <td>agpl-3.0</td>\n",
       "      <td>GNU Affero General Public License v3.0</td>\n",
       "      <td>AGPL-3.0</td>\n",
       "      <td>https://api.github.com/licenses/agpl-3.0</td>\n",
       "      <td>MDc6TGljZW5zZTE=</td>\n",
       "      <td>False</td>\n",
       "      <td>False</td>\n",
       "      <td>True</td>\n",
       "    </tr>\n",
       "    <tr>\n",
       "      <th>4</th>\n",
       "      <td>216611773</td>\n",
       "      <td>MDEwOlJlcG9zaXRvcnkyMTY2MTE3NzM=</td>\n",
       "      <td>datamex1019</td>\n",
       "      <td>ArturoQR/datamex1019</td>\n",
       "      <td>False</td>\n",
       "      <td>https://github.com/ArturoQR/datamex1019</td>\n",
       "      <td>None</td>\n",
       "      <td>True</td>\n",
       "      <td>https://api.github.com/repos/ArturoQR/datamex1019</td>\n",
       "      <td>https://api.github.com/repos/ArturoQR/datamex1...</td>\n",
       "      <td>...</td>\n",
       "      <td>User</td>\n",
       "      <td>False</td>\n",
       "      <td>agpl-3.0</td>\n",
       "      <td>GNU Affero General Public License v3.0</td>\n",
       "      <td>AGPL-3.0</td>\n",
       "      <td>https://api.github.com/licenses/agpl-3.0</td>\n",
       "      <td>MDc6TGljZW5zZTE=</td>\n",
       "      <td>False</td>\n",
       "      <td>False</td>\n",
       "      <td>True</td>\n",
       "    </tr>\n",
       "  </tbody>\n",
       "</table>\n",
       "<p>5 rows × 97 columns</p>\n",
       "</div>"
      ],
      "text/plain": [
       "          id                           node_id         name  \\\n",
       "0  218619240  MDEwOlJlcG9zaXRvcnkyMTg2MTkyNDA=  datamex1019   \n",
       "1  217363066  MDEwOlJlcG9zaXRvcnkyMTczNjMwNjY=  datamex1019   \n",
       "2  216659447  MDEwOlJlcG9zaXRvcnkyMTY2NTk0NDc=  datamex1019   \n",
       "3  216617567  MDEwOlJlcG9zaXRvcnkyMTY2MTc1Njc=  datamex1019   \n",
       "4  216611773  MDEwOlJlcG9zaXRvcnkyMTY2MTE3NzM=  datamex1019   \n",
       "\n",
       "                 full_name  private  \\\n",
       "0  diegorv1994/datamex1019    False   \n",
       "1  Sviliesid13/datamex1019    False   \n",
       "2    diegodg78/datamex1019    False   \n",
       "3     oscarifh/datamex1019    False   \n",
       "4     ArturoQR/datamex1019    False   \n",
       "\n",
       "                                     html_url description  fork  \\\n",
       "0  https://github.com/diegorv1994/datamex1019        None  True   \n",
       "1  https://github.com/Sviliesid13/datamex1019        None  True   \n",
       "2    https://github.com/diegodg78/datamex1019        None  True   \n",
       "3     https://github.com/oscarifh/datamex1019        None  True   \n",
       "4     https://github.com/ArturoQR/datamex1019        None  True   \n",
       "\n",
       "                                                 url  \\\n",
       "0  https://api.github.com/repos/diegorv1994/datam...   \n",
       "1  https://api.github.com/repos/Sviliesid13/datam...   \n",
       "2  https://api.github.com/repos/diegodg78/datamex...   \n",
       "3  https://api.github.com/repos/oscarifh/datamex1019   \n",
       "4  https://api.github.com/repos/ArturoQR/datamex1019   \n",
       "\n",
       "                                           forks_url  ... owner.type  \\\n",
       "0  https://api.github.com/repos/diegorv1994/datam...  ...       User   \n",
       "1  https://api.github.com/repos/Sviliesid13/datam...  ...       User   \n",
       "2  https://api.github.com/repos/diegodg78/datamex...  ...       User   \n",
       "3  https://api.github.com/repos/oscarifh/datamex1...  ...       User   \n",
       "4  https://api.github.com/repos/ArturoQR/datamex1...  ...       User   \n",
       "\n",
       "  owner.site_admin license.key                            license.name  \\\n",
       "0            False    agpl-3.0  GNU Affero General Public License v3.0   \n",
       "1            False    agpl-3.0  GNU Affero General Public License v3.0   \n",
       "2            False    agpl-3.0  GNU Affero General Public License v3.0   \n",
       "3            False    agpl-3.0  GNU Affero General Public License v3.0   \n",
       "4            False    agpl-3.0  GNU Affero General Public License v3.0   \n",
       "\n",
       "  license.spdx_id                               license.url   license.node_id  \\\n",
       "0        AGPL-3.0  https://api.github.com/licenses/agpl-3.0  MDc6TGljZW5zZTE=   \n",
       "1        AGPL-3.0  https://api.github.com/licenses/agpl-3.0  MDc6TGljZW5zZTE=   \n",
       "2        AGPL-3.0  https://api.github.com/licenses/agpl-3.0  MDc6TGljZW5zZTE=   \n",
       "3        AGPL-3.0  https://api.github.com/licenses/agpl-3.0  MDc6TGljZW5zZTE=   \n",
       "4        AGPL-3.0  https://api.github.com/licenses/agpl-3.0  MDc6TGljZW5zZTE=   \n",
       "\n",
       "  permissions.admin permissions.push permissions.pull  \n",
       "0             False            False             True  \n",
       "1             False            False             True  \n",
       "2             False            False             True  \n",
       "3             False            False             True  \n",
       "4             False            False             True  \n",
       "\n",
       "[5 rows x 97 columns]"
      ]
     },
     "execution_count": 28,
     "metadata": {},
     "output_type": "execute_result"
    }
   ],
   "source": [
    "from pandas.io.json import json_normalize\n",
    "results=res.json()\n",
    "flattened=json_normalize(results)\n",
    "flattened.head()"
   ]
  },
  {
   "cell_type": "code",
   "execution_count": 36,
   "metadata": {},
   "outputs": [
    {
     "data": {
      "text/plain": [
       "['Jupyter Notebook', None]"
      ]
     },
     "execution_count": 36,
     "metadata": {},
     "output_type": "execute_result"
    }
   ],
   "source": [
    "array = set(flattened['language'])\n",
    "array = list(array)\n",
    "array"
   ]
  },
  {
   "cell_type": "markdown",
   "metadata": {},
   "source": [
    "# Challenge 2"
   ]
  },
  {
   "cell_type": "code",
   "execution_count": 37,
   "metadata": {},
   "outputs": [
    {
     "data": {
      "text/plain": [
       "<Response [200]>"
      ]
     },
     "execution_count": 37,
     "metadata": {},
     "output_type": "execute_result"
    }
   ],
   "source": [
    "URL='https://api.github.com/repos/ironhack-datalabs/datamex1019/commits'\n",
    "\n",
    "with open('Githubu.txt','r') as f:\n",
    "    user=f.readlines()\n",
    "with open('Githuba.txt', 'r') as v:\n",
    "    key=v.readlines()\n",
    "\n",
    "res=requests.get(URL, auth=(user[0],key[0]))\n",
    "res"
   ]
  },
  {
   "cell_type": "code",
   "execution_count": 55,
   "metadata": {},
   "outputs": [
    {
     "name": "stdout",
     "output_type": "stream",
     "text": [
      "7\n"
     ]
    }
   ],
   "source": [
    "results = res.json()\n",
    "print(len(results[0]['commit']))\n"
   ]
  },
  {
   "cell_type": "markdown",
   "metadata": {},
   "source": [
    "# Challenge 3"
   ]
  },
  {
   "cell_type": "code",
   "execution_count": null,
   "metadata": {},
   "outputs": [],
   "source": []
  }
 ],
 "metadata": {
  "kernelspec": {
   "display_name": "Python 3",
   "language": "python",
   "name": "python3"
  },
  "language_info": {
   "codemirror_mode": {
    "name": "ipython",
    "version": 3
   },
   "file_extension": ".py",
   "mimetype": "text/x-python",
   "name": "python",
   "nbconvert_exporter": "python",
   "pygments_lexer": "ipython3",
   "version": "3.7.4"
  }
 },
 "nbformat": 4,
 "nbformat_minor": 2
}
