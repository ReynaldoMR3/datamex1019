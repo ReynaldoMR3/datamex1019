{
 "cells": [
  {
   "cell_type": "markdown",
   "metadata": {},
   "source": [
    "# Working with RSS Feeds Lab\n",
    "\n",
    "Complete the following set of exercises to solidify your knowledge of parsing RSS feeds and extracting information from them."
   ]
  },
  {
   "cell_type": "code",
   "execution_count": 1,
   "metadata": {},
   "outputs": [],
   "source": [
    "import feedparser"
   ]
  },
  {
   "cell_type": "markdown",
   "metadata": {},
   "source": [
    "### 1. Use feedparser to parse the following RSS feed URL."
   ]
  },
  {
   "cell_type": "code",
   "execution_count": 2,
   "metadata": {},
   "outputs": [],
   "source": [
    "url = 'http://feeds.feedburner.com/oreilly/radar/atom'"
   ]
  },
  {
   "cell_type": "code",
   "execution_count": 5,
   "metadata": {},
   "outputs": [],
   "source": [
    "feeds = feedparser.parse(url)"
   ]
  },
  {
   "cell_type": "markdown",
   "metadata": {},
   "source": [
    "### 2. Obtain a list of components (keys) that are available for this feed."
   ]
  },
  {
   "cell_type": "code",
   "execution_count": 6,
   "metadata": {},
   "outputs": [
    {
     "data": {
      "text/plain": [
       "dict_keys(['feed', 'entries', 'bozo', 'headers', 'etag', 'updated', 'updated_parsed', 'href', 'status', 'encoding', 'version', 'namespaces'])"
      ]
     },
     "execution_count": 6,
     "metadata": {},
     "output_type": "execute_result"
    }
   ],
   "source": [
    "feeds.keys()"
   ]
  },
  {
   "cell_type": "markdown",
   "metadata": {},
   "source": [
    "### 3. Obtain a list of components (keys) that are available for the *feed* component of this RSS feed."
   ]
  },
  {
   "cell_type": "code",
   "execution_count": 26,
   "metadata": {},
   "outputs": [
    {
     "data": {
      "text/plain": [
       "dict_keys(['title', 'title_detail', 'links', 'link', 'subtitle', 'subtitle_detail', 'updated', 'updated_parsed', 'language', 'sy_updateperiod', 'sy_updatefrequency', 'generator_detail', 'generator', 'feedburner_info', 'geo_lat', 'geo_long', 'feedburner_emailserviceid', 'feedburner_feedburnerhostname'])"
      ]
     },
     "execution_count": 26,
     "metadata": {},
     "output_type": "execute_result"
    }
   ],
   "source": [
    "feeds.feed.keys()"
   ]
  },
  {
   "cell_type": "markdown",
   "metadata": {},
   "source": [
    "### 4. Extract and print the feed title, subtitle, author, and link."
   ]
  },
  {
   "cell_type": "code",
   "execution_count": 25,
   "metadata": {},
   "outputs": [
    {
     "name": "stdout",
     "output_type": "stream",
     "text": [
      "Title: Radar \n",
      "Subtitle: Now, next, and beyond: Tracking need-to-know trends at the intersection of business and technology \n",
      "Author: Ben Lorica and Mike Loukides\n"
     ]
    }
   ],
   "source": [
    "feed_title = feeds.feed.title\n",
    "feed_subtitle = feeds.feed.subtitle\n",
    "feed_author = feeds.entries[0].author\n",
    "\n",
    "print('Title:',feed_title, '\\n' 'Subtitle:', feed_subtitle, '\\n''Author:', feed_author)"
   ]
  },
  {
   "cell_type": "markdown",
   "metadata": {},
   "source": [
    "### 5. Count the number of entries that are contained in this RSS feed."
   ]
  },
  {
   "cell_type": "code",
   "execution_count": 31,
   "metadata": {},
   "outputs": [
    {
     "data": {
      "text/plain": [
       "19"
      ]
     },
     "execution_count": 31,
     "metadata": {},
     "output_type": "execute_result"
    }
   ],
   "source": [
    "len(feeds.entries[0])"
   ]
  },
  {
   "cell_type": "markdown",
   "metadata": {},
   "source": [
    "### 6. Obtain a list of components (keys) available for an entry.\n",
    "\n",
    "*Hint: Remember to index first before requesting the keys*"
   ]
  },
  {
   "cell_type": "code",
   "execution_count": 34,
   "metadata": {},
   "outputs": [
    {
     "data": {
      "text/plain": [
       "dict_keys(['title', 'title_detail', 'links', 'link', 'comments', 'published', 'published_parsed', 'authors', 'author', 'author_detail', 'tags', 'id', 'guidislink', 'summary', 'summary_detail', 'content', 'wfw_commentrss', 'slash_comments', 'feedburner_origlink'])"
      ]
     },
     "execution_count": 34,
     "metadata": {},
     "output_type": "execute_result"
    }
   ],
   "source": [
    "entries_list = feeds.entries[0].keys()\n",
    "entries_list"
   ]
  },
  {
   "cell_type": "markdown",
   "metadata": {},
   "source": [
    "### 7. Extract a list of entry titles."
   ]
  },
  {
   "cell_type": "code",
   "execution_count": 40,
   "metadata": {},
   "outputs": [
    {
     "data": {
      "text/plain": [
       "['A world of deepfakes',\n",
       " 'Radar trends to watch: November 2019',\n",
       " 'Four short links: 7 November 2019',\n",
       " 'Highlights from the O’Reilly Velocity Conference in Berlin 2019',\n",
       " 'Highlights from the O’Reilly Software Architecture Conference in Berlin 2019',\n",
       " 'Modern machine learning architectures: Data and hardware and platform, oh my',\n",
       " 'The new norms of cloud native',\n",
       " 'Observability: Understanding production through your customers’ eyes',\n",
       " 'Secure reliable systems',\n",
       " 'My love letter to computer science is very short and I also forgot to mail it',\n",
       " 'Everything is a little bit broken; or, The illusion of control',\n",
       " 'Four short links: 6 November 2019',\n",
       " 'It’s important to cultivate your organization’s collective genius',\n",
       " 'Four short links: 5 November 2019',\n",
       " 'Four short links: 4 November 2019',\n",
       " 'Quantum computing’s potential is still far off, but quantum supremacy shows we’re on the right track',\n",
       " 'Four short links: 1 November 2019',\n",
       " 'Highlights from TensorFlow World in Santa Clara, California 2019']"
      ]
     },
     "execution_count": 40,
     "metadata": {},
     "output_type": "execute_result"
    }
   ],
   "source": [
    "entry_titles = [feeds.entries[i].title for i in range(len(feeds.entries))]\n",
    "entry_titles"
   ]
  },
  {
   "cell_type": "markdown",
   "metadata": {},
   "source": [
    "### 8. Calculate the percentage of \"Four short links\" entry titles."
   ]
  },
  {
   "cell_type": "code",
   "execution_count": 41,
   "metadata": {},
   "outputs": [
    {
     "data": {
      "text/plain": [
       "3.6"
      ]
     },
     "execution_count": 41,
     "metadata": {},
     "output_type": "execute_result"
    }
   ],
   "source": [
    "count = 0\n",
    "for i in entry_titles:\n",
    "    if \"Four short links\" in i:\n",
    "        count +=1\n",
    "    else:\n",
    "        pass\n",
    "\n",
    "len(entry_titles)/count"
   ]
  },
  {
   "cell_type": "markdown",
   "metadata": {},
   "source": [
    "### 9. Create a Pandas data frame from the feed's entries."
   ]
  },
  {
   "cell_type": "code",
   "execution_count": 42,
   "metadata": {},
   "outputs": [],
   "source": [
    "import pandas as pd"
   ]
  },
  {
   "cell_type": "code",
   "execution_count": 46,
   "metadata": {},
   "outputs": [
    {
     "data": {
      "text/html": [
       "<div>\n",
       "<style scoped>\n",
       "    .dataframe tbody tr th:only-of-type {\n",
       "        vertical-align: middle;\n",
       "    }\n",
       "\n",
       "    .dataframe tbody tr th {\n",
       "        vertical-align: top;\n",
       "    }\n",
       "\n",
       "    .dataframe thead th {\n",
       "        text-align: right;\n",
       "    }\n",
       "</style>\n",
       "<table border=\"1\" class=\"dataframe\">\n",
       "  <thead>\n",
       "    <tr style=\"text-align: right;\">\n",
       "      <th></th>\n",
       "      <th>title</th>\n",
       "      <th>title_detail</th>\n",
       "      <th>links</th>\n",
       "      <th>link</th>\n",
       "      <th>comments</th>\n",
       "      <th>published</th>\n",
       "      <th>published_parsed</th>\n",
       "      <th>authors</th>\n",
       "      <th>author</th>\n",
       "      <th>author_detail</th>\n",
       "      <th>tags</th>\n",
       "      <th>id</th>\n",
       "      <th>guidislink</th>\n",
       "      <th>summary</th>\n",
       "      <th>summary_detail</th>\n",
       "      <th>content</th>\n",
       "      <th>wfw_commentrss</th>\n",
       "      <th>slash_comments</th>\n",
       "      <th>feedburner_origlink</th>\n",
       "    </tr>\n",
       "  </thead>\n",
       "  <tbody>\n",
       "    <tr>\n",
       "      <th>0</th>\n",
       "      <td>A world of deepfakes</td>\n",
       "      <td>{'type': 'text/plain', 'language': None, 'base...</td>\n",
       "      <td>[{'rel': 'alternate', 'type': 'text/html', 'hr...</td>\n",
       "      <td>http://feedproxy.google.com/~r/oreilly/radar/a...</td>\n",
       "      <td>https://www.oreilly.com/radar/a-world-of-deepf...</td>\n",
       "      <td>Thu, 07 Nov 2019 14:00:50 +0000</td>\n",
       "      <td>(2019, 11, 7, 14, 0, 50, 3, 311, 0)</td>\n",
       "      <td>[{'name': 'Ben Lorica and Mike Loukides'}]</td>\n",
       "      <td>Ben Lorica and Mike Loukides</td>\n",
       "      <td>{'name': 'Ben Lorica and Mike Loukides'}</td>\n",
       "      <td>[{'term': 'AI &amp; ML', 'scheme': None, 'label': ...</td>\n",
       "      <td>https://www.oreilly.com/radar/?p=10617</td>\n",
       "      <td>False</td>\n",
       "      <td>Deepfakes have been very much in the news for ...</td>\n",
       "      <td>{'type': 'text/html', 'language': None, 'base'...</td>\n",
       "      <td>[{'type': 'text/html', 'language': None, 'base...</td>\n",
       "      <td>https://www.oreilly.com/radar/a-world-of-deepf...</td>\n",
       "      <td>0</td>\n",
       "      <td>https://www.oreilly.com/radar/a-world-of-deepf...</td>\n",
       "    </tr>\n",
       "    <tr>\n",
       "      <th>1</th>\n",
       "      <td>Radar trends to watch: November 2019</td>\n",
       "      <td>{'type': 'text/plain', 'language': None, 'base...</td>\n",
       "      <td>[{'rel': 'alternate', 'type': 'text/html', 'hr...</td>\n",
       "      <td>http://feedproxy.google.com/~r/oreilly/radar/a...</td>\n",
       "      <td>https://www.oreilly.com/radar/radar-trends-to-...</td>\n",
       "      <td>Thu, 07 Nov 2019 05:10:11 +0000</td>\n",
       "      <td>(2019, 11, 7, 5, 10, 11, 3, 311, 0)</td>\n",
       "      <td>[{'name': 'Mike Loukides'}]</td>\n",
       "      <td>Mike Loukides</td>\n",
       "      <td>{'name': 'Mike Loukides'}</td>\n",
       "      <td>[{'term': 'Radar Trends', 'scheme': None, 'lab...</td>\n",
       "      <td>https://www.oreilly.com/radar/?p=10365</td>\n",
       "      <td>False</td>\n",
       "      <td>5G trends 5G networks get so much commentary t...</td>\n",
       "      <td>{'type': 'text/html', 'language': None, 'base'...</td>\n",
       "      <td>[{'type': 'text/html', 'language': None, 'base...</td>\n",
       "      <td>https://www.oreilly.com/radar/radar-trends-to-...</td>\n",
       "      <td>0</td>\n",
       "      <td>https://www.oreilly.com/radar/radar-trends-to-...</td>\n",
       "    </tr>\n",
       "    <tr>\n",
       "      <th>2</th>\n",
       "      <td>Four short links: 7 November 2019</td>\n",
       "      <td>{'type': 'text/plain', 'language': None, 'base...</td>\n",
       "      <td>[{'rel': 'alternate', 'type': 'text/html', 'hr...</td>\n",
       "      <td>http://feedproxy.google.com/~r/oreilly/radar/a...</td>\n",
       "      <td>https://www.oreilly.com/radar/four-short-links...</td>\n",
       "      <td>Thu, 07 Nov 2019 05:01:24 +0000</td>\n",
       "      <td>(2019, 11, 7, 5, 1, 24, 3, 311, 0)</td>\n",
       "      <td>[{'name': 'Nat Torkington'}]</td>\n",
       "      <td>Nat Torkington</td>\n",
       "      <td>{'name': 'Nat Torkington'}</td>\n",
       "      <td>[{'term': 'Four Short Links', 'scheme': None, ...</td>\n",
       "      <td>https://www.oreilly.com/radar/?p=10731</td>\n",
       "      <td>False</td>\n",
       "      <td>DNS Wars &amp;#8212; But perhaps the position make...</td>\n",
       "      <td>{'type': 'text/html', 'language': None, 'base'...</td>\n",
       "      <td>[{'type': 'text/html', 'language': None, 'base...</td>\n",
       "      <td>https://www.oreilly.com/radar/four-short-links...</td>\n",
       "      <td>0</td>\n",
       "      <td>https://www.oreilly.com/radar/four-short-links...</td>\n",
       "    </tr>\n",
       "    <tr>\n",
       "      <th>3</th>\n",
       "      <td>Highlights from the O’Reilly Velocity Conferen...</td>\n",
       "      <td>{'type': 'text/plain', 'language': None, 'base...</td>\n",
       "      <td>[{'rel': 'alternate', 'type': 'text/html', 'hr...</td>\n",
       "      <td>http://feedproxy.google.com/~r/oreilly/radar/a...</td>\n",
       "      <td>https://www.oreilly.com/radar/highlights-from-...</td>\n",
       "      <td>Wed, 06 Nov 2019 18:45:07 +0000</td>\n",
       "      <td>(2019, 11, 6, 18, 45, 7, 2, 310, 0)</td>\n",
       "      <td>[{'name': 'Mac Slocum'}]</td>\n",
       "      <td>Mac Slocum</td>\n",
       "      <td>{'name': 'Mac Slocum'}</td>\n",
       "      <td>[{'term': 'Next Architecture', 'scheme': None,...</td>\n",
       "      <td>https://www.oreilly.com/radar/?p=10577</td>\n",
       "      <td>False</td>\n",
       "      <td>People from across the cloud native and distri...</td>\n",
       "      <td>{'type': 'text/html', 'language': None, 'base'...</td>\n",
       "      <td>[{'type': 'text/html', 'language': None, 'base...</td>\n",
       "      <td>https://www.oreilly.com/radar/highlights-from-...</td>\n",
       "      <td>0</td>\n",
       "      <td>https://www.oreilly.com/radar/highlights-from-...</td>\n",
       "    </tr>\n",
       "    <tr>\n",
       "      <th>4</th>\n",
       "      <td>Highlights from the O’Reilly Software Architec...</td>\n",
       "      <td>{'type': 'text/plain', 'language': None, 'base...</td>\n",
       "      <td>[{'rel': 'alternate', 'type': 'text/html', 'hr...</td>\n",
       "      <td>http://feedproxy.google.com/~r/oreilly/radar/a...</td>\n",
       "      <td>https://www.oreilly.com/radar/highlights-from-...</td>\n",
       "      <td>Wed, 06 Nov 2019 18:40:44 +0000</td>\n",
       "      <td>(2019, 11, 6, 18, 40, 44, 2, 310, 0)</td>\n",
       "      <td>[{'name': 'Mac Slocum'}]</td>\n",
       "      <td>Mac Slocum</td>\n",
       "      <td>{'name': 'Mac Slocum'}</td>\n",
       "      <td>[{'term': 'Next Architecture', 'scheme': None,...</td>\n",
       "      <td>https://www.oreilly.com/radar/?p=10569</td>\n",
       "      <td>False</td>\n",
       "      <td>Experts from across the software architecture ...</td>\n",
       "      <td>{'type': 'text/html', 'language': None, 'base'...</td>\n",
       "      <td>[{'type': 'text/html', 'language': None, 'base...</td>\n",
       "      <td>https://www.oreilly.com/radar/highlights-from-...</td>\n",
       "      <td>0</td>\n",
       "      <td>https://www.oreilly.com/radar/highlights-from-...</td>\n",
       "    </tr>\n",
       "  </tbody>\n",
       "</table>\n",
       "</div>"
      ],
      "text/plain": [
       "                                               title  \\\n",
       "0                               A world of deepfakes   \n",
       "1               Radar trends to watch: November 2019   \n",
       "2                  Four short links: 7 November 2019   \n",
       "3  Highlights from the O’Reilly Velocity Conferen...   \n",
       "4  Highlights from the O’Reilly Software Architec...   \n",
       "\n",
       "                                        title_detail  \\\n",
       "0  {'type': 'text/plain', 'language': None, 'base...   \n",
       "1  {'type': 'text/plain', 'language': None, 'base...   \n",
       "2  {'type': 'text/plain', 'language': None, 'base...   \n",
       "3  {'type': 'text/plain', 'language': None, 'base...   \n",
       "4  {'type': 'text/plain', 'language': None, 'base...   \n",
       "\n",
       "                                               links  \\\n",
       "0  [{'rel': 'alternate', 'type': 'text/html', 'hr...   \n",
       "1  [{'rel': 'alternate', 'type': 'text/html', 'hr...   \n",
       "2  [{'rel': 'alternate', 'type': 'text/html', 'hr...   \n",
       "3  [{'rel': 'alternate', 'type': 'text/html', 'hr...   \n",
       "4  [{'rel': 'alternate', 'type': 'text/html', 'hr...   \n",
       "\n",
       "                                                link  \\\n",
       "0  http://feedproxy.google.com/~r/oreilly/radar/a...   \n",
       "1  http://feedproxy.google.com/~r/oreilly/radar/a...   \n",
       "2  http://feedproxy.google.com/~r/oreilly/radar/a...   \n",
       "3  http://feedproxy.google.com/~r/oreilly/radar/a...   \n",
       "4  http://feedproxy.google.com/~r/oreilly/radar/a...   \n",
       "\n",
       "                                            comments  \\\n",
       "0  https://www.oreilly.com/radar/a-world-of-deepf...   \n",
       "1  https://www.oreilly.com/radar/radar-trends-to-...   \n",
       "2  https://www.oreilly.com/radar/four-short-links...   \n",
       "3  https://www.oreilly.com/radar/highlights-from-...   \n",
       "4  https://www.oreilly.com/radar/highlights-from-...   \n",
       "\n",
       "                         published                      published_parsed  \\\n",
       "0  Thu, 07 Nov 2019 14:00:50 +0000   (2019, 11, 7, 14, 0, 50, 3, 311, 0)   \n",
       "1  Thu, 07 Nov 2019 05:10:11 +0000   (2019, 11, 7, 5, 10, 11, 3, 311, 0)   \n",
       "2  Thu, 07 Nov 2019 05:01:24 +0000    (2019, 11, 7, 5, 1, 24, 3, 311, 0)   \n",
       "3  Wed, 06 Nov 2019 18:45:07 +0000   (2019, 11, 6, 18, 45, 7, 2, 310, 0)   \n",
       "4  Wed, 06 Nov 2019 18:40:44 +0000  (2019, 11, 6, 18, 40, 44, 2, 310, 0)   \n",
       "\n",
       "                                      authors                        author  \\\n",
       "0  [{'name': 'Ben Lorica and Mike Loukides'}]  Ben Lorica and Mike Loukides   \n",
       "1                 [{'name': 'Mike Loukides'}]                 Mike Loukides   \n",
       "2                [{'name': 'Nat Torkington'}]                Nat Torkington   \n",
       "3                    [{'name': 'Mac Slocum'}]                    Mac Slocum   \n",
       "4                    [{'name': 'Mac Slocum'}]                    Mac Slocum   \n",
       "\n",
       "                              author_detail  \\\n",
       "0  {'name': 'Ben Lorica and Mike Loukides'}   \n",
       "1                 {'name': 'Mike Loukides'}   \n",
       "2                {'name': 'Nat Torkington'}   \n",
       "3                    {'name': 'Mac Slocum'}   \n",
       "4                    {'name': 'Mac Slocum'}   \n",
       "\n",
       "                                                tags  \\\n",
       "0  [{'term': 'AI & ML', 'scheme': None, 'label': ...   \n",
       "1  [{'term': 'Radar Trends', 'scheme': None, 'lab...   \n",
       "2  [{'term': 'Four Short Links', 'scheme': None, ...   \n",
       "3  [{'term': 'Next Architecture', 'scheme': None,...   \n",
       "4  [{'term': 'Next Architecture', 'scheme': None,...   \n",
       "\n",
       "                                       id  guidislink  \\\n",
       "0  https://www.oreilly.com/radar/?p=10617       False   \n",
       "1  https://www.oreilly.com/radar/?p=10365       False   \n",
       "2  https://www.oreilly.com/radar/?p=10731       False   \n",
       "3  https://www.oreilly.com/radar/?p=10577       False   \n",
       "4  https://www.oreilly.com/radar/?p=10569       False   \n",
       "\n",
       "                                             summary  \\\n",
       "0  Deepfakes have been very much in the news for ...   \n",
       "1  5G trends 5G networks get so much commentary t...   \n",
       "2  DNS Wars &#8212; But perhaps the position make...   \n",
       "3  People from across the cloud native and distri...   \n",
       "4  Experts from across the software architecture ...   \n",
       "\n",
       "                                      summary_detail  \\\n",
       "0  {'type': 'text/html', 'language': None, 'base'...   \n",
       "1  {'type': 'text/html', 'language': None, 'base'...   \n",
       "2  {'type': 'text/html', 'language': None, 'base'...   \n",
       "3  {'type': 'text/html', 'language': None, 'base'...   \n",
       "4  {'type': 'text/html', 'language': None, 'base'...   \n",
       "\n",
       "                                             content  \\\n",
       "0  [{'type': 'text/html', 'language': None, 'base...   \n",
       "1  [{'type': 'text/html', 'language': None, 'base...   \n",
       "2  [{'type': 'text/html', 'language': None, 'base...   \n",
       "3  [{'type': 'text/html', 'language': None, 'base...   \n",
       "4  [{'type': 'text/html', 'language': None, 'base...   \n",
       "\n",
       "                                      wfw_commentrss slash_comments  \\\n",
       "0  https://www.oreilly.com/radar/a-world-of-deepf...              0   \n",
       "1  https://www.oreilly.com/radar/radar-trends-to-...              0   \n",
       "2  https://www.oreilly.com/radar/four-short-links...              0   \n",
       "3  https://www.oreilly.com/radar/highlights-from-...              0   \n",
       "4  https://www.oreilly.com/radar/highlights-from-...              0   \n",
       "\n",
       "                                 feedburner_origlink  \n",
       "0  https://www.oreilly.com/radar/a-world-of-deepf...  \n",
       "1  https://www.oreilly.com/radar/radar-trends-to-...  \n",
       "2  https://www.oreilly.com/radar/four-short-links...  \n",
       "3  https://www.oreilly.com/radar/highlights-from-...  \n",
       "4  https://www.oreilly.com/radar/highlights-from-...  "
      ]
     },
     "execution_count": 46,
     "metadata": {},
     "output_type": "execute_result"
    }
   ],
   "source": [
    "df = pd.DataFrame(feeds.entries)\n",
    "df.head()"
   ]
  },
  {
   "cell_type": "markdown",
   "metadata": {},
   "source": [
    "### 10. Count the number of entries per author and sort them in descending order."
   ]
  },
  {
   "cell_type": "code",
   "execution_count": 50,
   "metadata": {},
   "outputs": [
    {
     "data": {
      "text/plain": [
       "Index(['title', 'title_detail', 'links', 'link', 'comments', 'published',\n",
       "       'published_parsed', 'authors', 'author', 'author_detail', 'tags', 'id',\n",
       "       'guidislink', 'summary', 'summary_detail', 'content', 'wfw_commentrss',\n",
       "       'slash_comments', 'feedburner_origlink'],\n",
       "      dtype='object')"
      ]
     },
     "execution_count": 50,
     "metadata": {},
     "output_type": "execute_result"
    }
   ],
   "source": [
    "df.columns"
   ]
  },
  {
   "cell_type": "code",
   "execution_count": 51,
   "metadata": {},
   "outputs": [
    {
     "data": {
      "text/html": [
       "<div>\n",
       "<style scoped>\n",
       "    .dataframe tbody tr th:only-of-type {\n",
       "        vertical-align: middle;\n",
       "    }\n",
       "\n",
       "    .dataframe tbody tr th {\n",
       "        vertical-align: top;\n",
       "    }\n",
       "\n",
       "    .dataframe thead th {\n",
       "        text-align: right;\n",
       "    }\n",
       "</style>\n",
       "<table border=\"1\" class=\"dataframe\">\n",
       "  <thead>\n",
       "    <tr style=\"text-align: right;\">\n",
       "      <th></th>\n",
       "      <th>author</th>\n",
       "      <th>entries</th>\n",
       "    </tr>\n",
       "  </thead>\n",
       "  <tbody>\n",
       "    <tr>\n",
       "      <th>10</th>\n",
       "      <td>Nat Torkington</td>\n",
       "      <td>5</td>\n",
       "    </tr>\n",
       "    <tr>\n",
       "      <th>8</th>\n",
       "      <td>Mac Slocum</td>\n",
       "      <td>3</td>\n",
       "    </tr>\n",
       "    <tr>\n",
       "      <th>9</th>\n",
       "      <td>Mike Loukides</td>\n",
       "      <td>2</td>\n",
       "    </tr>\n",
       "    <tr>\n",
       "      <th>0</th>\n",
       "      <td>Ana Oprea</td>\n",
       "      <td>1</td>\n",
       "    </tr>\n",
       "    <tr>\n",
       "      <th>1</th>\n",
       "      <td>Ben Lorica and Mike Loukides</td>\n",
       "      <td>1</td>\n",
       "    </tr>\n",
       "    <tr>\n",
       "      <th>2</th>\n",
       "      <td>Brian Sletten</td>\n",
       "      <td>1</td>\n",
       "    </tr>\n",
       "    <tr>\n",
       "      <th>3</th>\n",
       "      <td>Cheryl Hung</td>\n",
       "      <td>1</td>\n",
       "    </tr>\n",
       "    <tr>\n",
       "      <th>4</th>\n",
       "      <td>Christine Yen</td>\n",
       "      <td>1</td>\n",
       "    </tr>\n",
       "    <tr>\n",
       "      <th>5</th>\n",
       "      <td>Heidi Waterhouse</td>\n",
       "      <td>1</td>\n",
       "    </tr>\n",
       "    <tr>\n",
       "      <th>6</th>\n",
       "      <td>James Mickens</td>\n",
       "      <td>1</td>\n",
       "    </tr>\n",
       "    <tr>\n",
       "      <th>7</th>\n",
       "      <td>Jenn Webb</td>\n",
       "      <td>1</td>\n",
       "    </tr>\n",
       "  </tbody>\n",
       "</table>\n",
       "</div>"
      ],
      "text/plain": [
       "                          author  entries\n",
       "10                Nat Torkington        5\n",
       "8                     Mac Slocum        3\n",
       "9                  Mike Loukides        2\n",
       "0                      Ana Oprea        1\n",
       "1   Ben Lorica and Mike Loukides        1\n",
       "2                  Brian Sletten        1\n",
       "3                    Cheryl Hung        1\n",
       "4                  Christine Yen        1\n",
       "5               Heidi Waterhouse        1\n",
       "6                  James Mickens        1\n",
       "7                      Jenn Webb        1"
      ]
     },
     "execution_count": 51,
     "metadata": {},
     "output_type": "execute_result"
    }
   ],
   "source": [
    "entries_num = df.groupby('author', as_index= False).agg({'title':'count'})\n",
    "entries_num.columns = ['author', 'entries']\n",
    "entries_num.sort_values('entries', ascending= False)"
   ]
  },
  {
   "cell_type": "markdown",
   "metadata": {},
   "source": [
    "### 11. Add a new column to the data frame that contains the length (number of characters) of each entry title. Return a data frame that contains the title, author, and title length of each entry in descending order (longest title length at the top)."
   ]
  },
  {
   "cell_type": "code",
   "execution_count": 55,
   "metadata": {},
   "outputs": [
    {
     "data": {
      "text/html": [
       "<div>\n",
       "<style scoped>\n",
       "    .dataframe tbody tr th:only-of-type {\n",
       "        vertical-align: middle;\n",
       "    }\n",
       "\n",
       "    .dataframe tbody tr th {\n",
       "        vertical-align: top;\n",
       "    }\n",
       "\n",
       "    .dataframe thead th {\n",
       "        text-align: right;\n",
       "    }\n",
       "</style>\n",
       "<table border=\"1\" class=\"dataframe\">\n",
       "  <thead>\n",
       "    <tr style=\"text-align: right;\">\n",
       "      <th></th>\n",
       "      <th>title</th>\n",
       "      <th>author</th>\n",
       "      <th>title_len</th>\n",
       "    </tr>\n",
       "  </thead>\n",
       "  <tbody>\n",
       "    <tr>\n",
       "      <th>15</th>\n",
       "      <td>Quantum computing’s potential is still far off...</td>\n",
       "      <td>Mike Loukides</td>\n",
       "      <td>100</td>\n",
       "    </tr>\n",
       "    <tr>\n",
       "      <th>9</th>\n",
       "      <td>My love letter to computer science is very sho...</td>\n",
       "      <td>James Mickens</td>\n",
       "      <td>77</td>\n",
       "    </tr>\n",
       "    <tr>\n",
       "      <th>4</th>\n",
       "      <td>Highlights from the O’Reilly Software Architec...</td>\n",
       "      <td>Mac Slocum</td>\n",
       "      <td>76</td>\n",
       "    </tr>\n",
       "    <tr>\n",
       "      <th>5</th>\n",
       "      <td>Modern machine learning architectures: Data an...</td>\n",
       "      <td>Brian Sletten</td>\n",
       "      <td>76</td>\n",
       "    </tr>\n",
       "    <tr>\n",
       "      <th>7</th>\n",
       "      <td>Observability: Understanding production throug...</td>\n",
       "      <td>Christine Yen</td>\n",
       "      <td>68</td>\n",
       "    </tr>\n",
       "  </tbody>\n",
       "</table>\n",
       "</div>"
      ],
      "text/plain": [
       "                                                title         author  \\\n",
       "15  Quantum computing’s potential is still far off...  Mike Loukides   \n",
       "9   My love letter to computer science is very sho...  James Mickens   \n",
       "4   Highlights from the O’Reilly Software Architec...     Mac Slocum   \n",
       "5   Modern machine learning architectures: Data an...  Brian Sletten   \n",
       "7   Observability: Understanding production throug...  Christine Yen   \n",
       "\n",
       "    title_len  \n",
       "15        100  \n",
       "9          77  \n",
       "4          76  \n",
       "5          76  \n",
       "7          68  "
      ]
     },
     "execution_count": 55,
     "metadata": {},
     "output_type": "execute_result"
    }
   ],
   "source": [
    "df['title_len'] = df['title'].apply(len)\n",
    "df[['title','author','title_len']].sort_values('title_len', ascending=False).head()\n"
   ]
  },
  {
   "cell_type": "markdown",
   "metadata": {},
   "source": [
    "### 12. Create a list of entry titles whose summary includes the phrase \"machine learning.\""
   ]
  },
  {
   "cell_type": "code",
   "execution_count": 66,
   "metadata": {},
   "outputs": [
    {
     "data": {
      "text/plain": [
       "['Modern machine learning architectures: Data and hardware and platform, oh my']"
      ]
     },
     "execution_count": 66,
     "metadata": {},
     "output_type": "execute_result"
    }
   ],
   "source": [
    "machine_learning = [i for i in df['title'] if ('machine learning') in i]\n",
    "machine_learning"
   ]
  },
  {
   "cell_type": "code",
   "execution_count": null,
   "metadata": {},
   "outputs": [],
   "source": []
  }
 ],
 "metadata": {
  "kernelspec": {
   "display_name": "Python 3",
   "language": "python",
   "name": "python3"
  },
  "language_info": {
   "codemirror_mode": {
    "name": "ipython",
    "version": 3
   },
   "file_extension": ".py",
   "mimetype": "text/x-python",
   "name": "python",
   "nbconvert_exporter": "python",
   "pygments_lexer": "ipython3",
   "version": "3.7.4"
  }
 },
 "nbformat": 4,
 "nbformat_minor": 2
}
